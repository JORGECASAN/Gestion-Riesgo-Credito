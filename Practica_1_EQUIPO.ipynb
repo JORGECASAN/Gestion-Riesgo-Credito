{
 "cells": [
  {
   "cell_type": "markdown",
   "metadata": {},
   "source": [
    "# Práctica 1"
   ]
  },
  {
   "cell_type": "markdown",
   "metadata": {},
   "source": [
    "Miembros del grupo:\n",
    "- Jorge Casan Vázquez\n",
    "- Alvaro Ferro\n",
    "- Luis Llera"
   ]
  },
  {
   "cell_type": "markdown",
   "metadata": {},
   "source": [
    "Para empezar nos importaremos las librerías necesarias para poder leer los archivos y realizar los cálculos y representaciones gráficas necesarias"
   ]
  },
  {
   "cell_type": "code",
   "execution_count": 1,
   "metadata": {
    "ExecuteTime": {
     "end_time": "2019-04-25T17:52:25.341453Z",
     "start_time": "2019-04-25T17:52:24.200989Z"
    }
   },
   "outputs": [],
   "source": [
    "import pandas as pd\n",
    "%matplotlib inline\n",
    "import numpy as pnp\n",
    "import seaborn as sns"
   ]
  },
  {
   "cell_type": "markdown",
   "metadata": {},
   "source": [
    "## Leer los archivos"
   ]
  },
  {
   "cell_type": "code",
   "execution_count": 2,
   "metadata": {
    "ExecuteTime": {
     "end_time": "2019-04-25T17:52:58.007310Z",
     "start_time": "2019-04-25T17:52:57.993490Z"
    }
   },
   "outputs": [],
   "source": [
    "df = pd.read_csv('prosperLoanData.csv')"
   ]
  },
  {
   "cell_type": "code",
   "execution_count": 3,
   "metadata": {
    "ExecuteTime": {
     "end_time": "2019-04-25T17:53:02.989094Z",
     "start_time": "2019-04-25T17:53:02.969678Z"
    }
   },
   "outputs": [
    {
     "name": "stdout",
     "output_type": "stream",
     "text": [
      "The DataSet has 113937 rows and 81 columns\n"
     ]
    }
   ],
   "source": [
    "print('The DataSet has {} rows and {} columns'.format(df.shape[0], df.shape[1]))"
   ]
  },
  {
   "cell_type": "code",
   "execution_count": 4,
   "metadata": {
    "ExecuteTime": {
     "end_time": "2019-04-25T17:58:20.096942Z",
     "start_time": "2019-04-25T17:58:20.068827Z"
    }
   },
   "outputs": [
    {
     "data": {
      "text/plain": [
       "Index(['ListingKey', 'ListingNumber', 'ListingCreationDate', 'CreditGrade',\n",
       "       'Term', 'LoanStatus', 'ClosedDate', 'BorrowerAPR', 'BorrowerRate',\n",
       "       'LenderYield', 'EstimatedEffectiveYield', 'EstimatedLoss',\n",
       "       'EstimatedReturn', 'ProsperRating (numeric)', 'ProsperRating (Alpha)',\n",
       "       'ProsperScore', 'ListingCategory (numeric)', 'BorrowerState',\n",
       "       'Occupation', 'EmploymentStatus', 'EmploymentStatusDuration',\n",
       "       'IsBorrowerHomeowner', 'CurrentlyInGroup', 'GroupKey',\n",
       "       'DateCreditPulled', 'CreditScoreRangeLower', 'CreditScoreRangeUpper',\n",
       "       'FirstRecordedCreditLine', 'CurrentCreditLines', 'OpenCreditLines',\n",
       "       'TotalCreditLinespast7years', 'OpenRevolvingAccounts',\n",
       "       'OpenRevolvingMonthlyPayment', 'InquiriesLast6Months', 'TotalInquiries',\n",
       "       'CurrentDelinquencies', 'AmountDelinquent', 'DelinquenciesLast7Years',\n",
       "       'PublicRecordsLast10Years', 'PublicRecordsLast12Months',\n",
       "       'RevolvingCreditBalance', 'BankcardUtilization',\n",
       "       'AvailableBankcardCredit', 'TotalTrades',\n",
       "       'TradesNeverDelinquent (percentage)', 'TradesOpenedLast6Months',\n",
       "       'DebtToIncomeRatio', 'IncomeRange', 'IncomeVerifiable',\n",
       "       'StatedMonthlyIncome', 'LoanKey', 'TotalProsperLoans',\n",
       "       'TotalProsperPaymentsBilled', 'OnTimeProsperPayments',\n",
       "       'ProsperPaymentsLessThanOneMonthLate',\n",
       "       'ProsperPaymentsOneMonthPlusLate', 'ProsperPrincipalBorrowed',\n",
       "       'ProsperPrincipalOutstanding', 'ScorexChangeAtTimeOfListing',\n",
       "       'LoanCurrentDaysDelinquent', 'LoanFirstDefaultedCycleNumber',\n",
       "       'LoanMonthsSinceOrigination', 'LoanNumber', 'LoanOriginalAmount',\n",
       "       'LoanOriginationDate', 'LoanOriginationQuarter', 'MemberKey',\n",
       "       'MonthlyLoanPayment', 'LP_CustomerPayments',\n",
       "       'LP_CustomerPrincipalPayments', 'LP_InterestandFees', 'LP_ServiceFees',\n",
       "       'LP_CollectionFees', 'LP_GrossPrincipalLoss', 'LP_NetPrincipalLoss',\n",
       "       'LP_NonPrincipalRecoverypayments', 'PercentFunded', 'Recommendations',\n",
       "       'InvestmentFromFriendsCount', 'InvestmentFromFriendsAmount',\n",
       "       'Investors'],\n",
       "      dtype='object')"
      ]
     },
     "execution_count": 4,
     "metadata": {},
     "output_type": "execute_result"
    }
   ],
   "source": [
    "df.columns"
   ]
  },
  {
   "cell_type": "markdown",
   "metadata": {},
   "source": [
    "En nuestra opinión las variables más importantes de nuestro dataset, son las siguientes:\n",
    "\n",
    "- **LoanStatus**: Esta variable representa el estado acual del prestamo. Puede tener las siguientes categorías: 'Cancelled', 'Chargedoff', 'Completed', 'Current', 'Default', 'FinalPaymentInProgress' y 'PastDue'. Hemos de destacar que este último vendrá acompañado de un 'Delicuency bucket'\n",
    "\n",
    "\n",
    "- **LoanMonthsSinceOrigination**: Esta variable representa el número de meses transcurridos desde la fecha de originación.\n",
    "\n",
    "\n",
    "- **LoanFirstDefaultedCycleNumber**: Esta variable representa el ciclo del préstamo hasta que incurrió en Default.\n",
    "\n",
    "\n",
    "- **LoanCurrentDaysDelinquent**: Esta variable representa el número de días en las que el préstamo incurrío en mora\n"
   ]
  },
  {
   "cell_type": "markdown",
   "metadata": {},
   "source": [
    "Puesto que nuestro análisis se va a basar en analizar el porcentaje de préstamos 'malos' es imprescindible analizar las variables que expresen el actual estado del préstamo ya que de ello dependerán como se defina nuestra **Performance y Sample Window**.\n",
    "\n",
    "Sobre esta base vamos a poder realizar predicciones a futuro, las cuales con diferentes técnicas de Machine Learning, expuestas en la **práctica 3**, se explican detalladamente."
   ]
  },
  {
   "cell_type": "markdown",
   "metadata": {},
   "source": [
    "# Performance & Sample Window"
   ]
  },
  {
   "cell_type": "markdown",
   "metadata": {},
   "source": [
    "La variable **LoanOriginationDate** es interesante analizarla para ver cuántos préstamos se formalizan cada año. \n",
    "\n",
    "\n",
    "- Llama la atención el repunte considerable una vez pasada la crisis, en donde 2013-2014 se registraron un gran crecimiento de préstamos por parte de la entidad.\n",
    "\n",
    "\n",
    "- En el intervalo 2009-2010 apenas se formalizaron préstamos, esto puede deberse a los cambios regulatorios que experimentaron las entidades financieras por las exigencias de la EBA (European Banking Authority) y los cumplimientos de capital y liquidez regulatorios de Basilea III.\n",
    "\n",
    "\n",
    "- Pese a la crisis financiera sufrida concluimos que el crecimiento de los préstamos formalizados ha sido positivo y con tendencia alcista."
   ]
  },
  {
   "cell_type": "code",
   "execution_count": 5,
   "metadata": {
    "ExecuteTime": {
     "end_time": "2019-04-25T17:59:24.591494Z",
     "start_time": "2019-04-25T17:59:23.667307Z"
    }
   },
   "outputs": [
    {
     "data": {
      "image/png": "[encoded data removed]",
      "text/plain": [
       "<Figure size 432x288 with 1 Axes>"
      ]
     },
     "metadata": {
      "needs_background": "light"
     },
     "output_type": "display_data"
    }
   ],
   "source": [
    "from pandas.plotting import register_matplotlib_converters\n",
    "register_matplotlib_converters()\n",
    "import matplotlib.pyplot as plt\n",
    "x = pd.to_datetime(df.LoanOriginationDate.str[:10])\n",
    "plt.hist(x)\n",
    "plt.title('Número de préstamos originados/formalizados cada año')\n",
    "plt.xlabel('Año')\n",
    "plt.ylabel('Número de préstamos')\n",
    "plt.show()"
   ]
  },
  {
   "cell_type": "markdown",
   "metadata": {},
   "source": [
    "## TO DO"
   ]
  },
  {
   "cell_type": "markdown",
   "metadata": {},
   "source": [
    "El primer TO DO es seleccionar qué variable emplearemos como variable objetivo. Existen dos opciones:\n",
    "- Opción A: **LoanStatus** \n",
    "- Opción B: **LoanFirstDefaultedCycleNumber** "
   ]
  },
  {
   "cell_type": "markdown",
   "metadata": {},
   "source": [
    "Nos quedamos con la Opción B. Nuestra variable objetivo será **LoanFirstDefaultedCycleNumber**, ya que como se ha explicado antes, nos interesa analizar la *maturity* del préstamo, ya que importa un histórico de información y como ha evolucionado el préstamo desde su fecha de originación.\n",
    "\n",
    "**LoanStatus** solo refleja el último status del préstamo. No podemos basarnos en dicha columna para configurar el *TARGET*"
   ]
  },
  {
   "cell_type": "markdown",
   "metadata": {},
   "source": [
    "## Vintage analysis"
   ]
  },
  {
   "cell_type": "markdown",
   "metadata": {},
   "source": [
    "El análisis VINTAGE proporciona un análisis mucho mejor y más depurado sobre el rendimiento de los préstamos que otros análisis, por ello realizaremos las primeras trasformaciones de las variables con el fin de llegar a soluciones interesantes"
   ]
  },
  {
   "cell_type": "code",
   "execution_count": 5,
   "metadata": {},
   "outputs": [
    {
     "data": {
      "text/plain": [
       "0   NaN\n",
       "1   NaN\n",
       "2   NaN\n",
       "3   NaN\n",
       "4   NaN\n",
       "Name: LoanFirstDefaultedCycleNumber, dtype: float64"
      ]
     },
     "execution_count": 5,
     "metadata": {},
     "output_type": "execute_result"
    }
   ],
   "source": [
    "df.LoanFirstDefaultedCycleNumber.head(5)"
   ]
  },
  {
   "cell_type": "markdown",
   "metadata": {},
   "source": [
    "La idea que tenemos con el análisis VINTAGE es tener un porcentaje de malos préstamos, expresados a través de la **BAD RATE**, para ello los pasos que hemos seguido han sido los siguientes:\n",
    "\n",
    "- 1º paso: La variable **LoanMonthsSinceOrigination** la establecemos como años transcurridos desde que se originó el préstamo\n",
    "- 2º paso: Nos creamos la variable **LoanFirstDefaultedCycleNumberQ** para ver el primer trimestre en donde el préstamo icurrió en impago.\n",
    "- 3º paso: Nuestro **df_vintage** recogerá los años transcurridos desde que se origininó el préstamo así como el número de préstamos originados cada año, con la clara finalidad de poder compararlos.\n",
    "- 4º paso: Definimos nuestra **BAD RATE**, la cual será el cociente entre el número de de préstamos malos y el total de préstamos"
   ]
  },
  {
   "cell_type": "code",
   "execution_count": 9,
   "metadata": {
    "ExecuteTime": {
     "end_time": "2019-04-25T18:05:57.634842Z",
     "start_time": "2019-04-25T18:05:57.276046Z"
    }
   },
   "outputs": [
    {
     "data": {
      "text/html": [
       "<div>\n",
       "<style scoped>\n",
       "    .dataframe tbody tr th:only-of-type {\n",
       "        vertical-align: middle;\n",
       "    }\n",
       "\n",
       "    .dataframe tbody tr th {\n",
       "        vertical-align: top;\n",
       "    }\n",
       "\n",
       "    .dataframe thead th {\n",
       "        text-align: right;\n",
       "    }\n",
       "</style>\n",
       "<table border=\"1\" class=\"dataframe\">\n",
       "  <thead>\n",
       "    <tr style=\"text-align: right;\">\n",
       "      <th></th>\n",
       "      <th>LoanMonthsSinceOriginationY</th>\n",
       "      <th>N_loans</th>\n",
       "      <th>LoanFirstDefaultedCycleNumberQ</th>\n",
       "      <th>N_bads</th>\n",
       "      <th>BR</th>\n",
       "    </tr>\n",
       "  </thead>\n",
       "  <tbody>\n",
       "    <tr>\n",
       "      <th>0</th>\n",
       "      <td>0.0</td>\n",
       "      <td>29808</td>\n",
       "      <td>4.0</td>\n",
       "      <td>1.0</td>\n",
       "      <td>0.003355</td>\n",
       "    </tr>\n",
       "    <tr>\n",
       "      <th>1</th>\n",
       "      <td>0.0</td>\n",
       "      <td>29808</td>\n",
       "      <td>8.0</td>\n",
       "      <td>3.0</td>\n",
       "      <td>0.010064</td>\n",
       "    </tr>\n",
       "    <tr>\n",
       "      <th>2</th>\n",
       "      <td>1.0</td>\n",
       "      <td>21134</td>\n",
       "      <td>0.0</td>\n",
       "      <td>3.0</td>\n",
       "      <td>0.014195</td>\n",
       "    </tr>\n",
       "    <tr>\n",
       "      <th>3</th>\n",
       "      <td>1.0</td>\n",
       "      <td>21134</td>\n",
       "      <td>4.0</td>\n",
       "      <td>18.0</td>\n",
       "      <td>0.085171</td>\n",
       "    </tr>\n",
       "    <tr>\n",
       "      <th>4</th>\n",
       "      <td>1.0</td>\n",
       "      <td>21134</td>\n",
       "      <td>8.0</td>\n",
       "      <td>462.0</td>\n",
       "      <td>2.186051</td>\n",
       "    </tr>\n",
       "    <tr>\n",
       "      <th>5</th>\n",
       "      <td>1.0</td>\n",
       "      <td>21134</td>\n",
       "      <td>12.0</td>\n",
       "      <td>622.0</td>\n",
       "      <td>2.943125</td>\n",
       "    </tr>\n",
       "    <tr>\n",
       "      <th>6</th>\n",
       "      <td>1.0</td>\n",
       "      <td>21134</td>\n",
       "      <td>16.0</td>\n",
       "      <td>712.0</td>\n",
       "      <td>3.368979</td>\n",
       "    </tr>\n",
       "    <tr>\n",
       "      <th>7</th>\n",
       "      <td>2.0</td>\n",
       "      <td>20122</td>\n",
       "      <td>0.0</td>\n",
       "      <td>8.0</td>\n",
       "      <td>0.039757</td>\n",
       "    </tr>\n",
       "  </tbody>\n",
       "</table>\n",
       "</div>"
      ],
      "text/plain": [
       "   LoanMonthsSinceOriginationY  N_loans  LoanFirstDefaultedCycleNumberQ  \\\n",
       "0                          0.0    29808                             4.0   \n",
       "1                          0.0    29808                             8.0   \n",
       "2                          1.0    21134                             0.0   \n",
       "3                          1.0    21134                             4.0   \n",
       "4                          1.0    21134                             8.0   \n",
       "5                          1.0    21134                            12.0   \n",
       "6                          1.0    21134                            16.0   \n",
       "7                          2.0    20122                             0.0   \n",
       "\n",
       "   N_bads        BR  \n",
       "0     1.0  0.003355  \n",
       "1     3.0  0.010064  \n",
       "2     3.0  0.014195  \n",
       "3    18.0  0.085171  \n",
       "4   462.0  2.186051  \n",
       "5   622.0  2.943125  \n",
       "6   712.0  3.368979  \n",
       "7     8.0  0.039757  "
      ]
     },
     "execution_count": 9,
     "metadata": {},
     "output_type": "execute_result"
    }
   ],
   "source": [
    "df['LoanMonthsSinceOriginationY'] = (df.LoanMonthsSinceOrigination / 12).round()\n",
    "df['LoanFirstDefaultedCycleNumberQ'] = 4 * (df.LoanFirstDefaultedCycleNumber / 4).round()\n",
    "df_vintage = df.groupby('LoanMonthsSinceOriginationY').agg({'LoanMonthsSinceOriginationY': 'size'})\\\n",
    "                                                     .rename(columns={'LoanMonthsSinceOriginationY': 'N_loans'})\\\n",
    "                                                     .reset_index()\n",
    "\n",
    "df['bad_aux'] = ~df['LoanFirstDefaultedCycleNumber'].isna()\n",
    "df_def_per_cycle = pd.DataFrame(df.groupby(['LoanMonthsSinceOriginationY', 'LoanFirstDefaultedCycleNumberQ'])['bad_aux'].sum().groupby(level=[0]).cumsum()).reset_index()\n",
    "df_def_per_cycle.columns = df_def_per_cycle.columns[:-1].tolist() +  ['N_bads']\n",
    "\n",
    "df_vintage = df_vintage.merge(df_def_per_cycle, on='LoanMonthsSinceOriginationY')\n",
    "df_vintage['BR'] = 100. * df_vintage['N_bads'] / df_vintage['N_loans']\n",
    "\n",
    "df_vintage.head(8)"
   ]
  },
  {
   "cell_type": "markdown",
   "metadata": {},
   "source": [
    "Nos creamos una *TABLA DINÁMICA* para ver la relación entre el primer trimestre de imapgo del préstamo y los años en donde el préstamo está vivo desde la fecha de originación"
   ]
  },
  {
   "cell_type": "code",
   "execution_count": 10,
   "metadata": {
    "ExecuteTime": {
     "end_time": "2019-04-25T18:05:58.873298Z",
     "start_time": "2019-04-25T18:05:58.751628Z"
    },
    "scrolled": true
   },
   "outputs": [
    {
     "data": {
      "text/html": [
       "<div>\n",
       "<style scoped>\n",
       "    .dataframe tbody tr th:only-of-type {\n",
       "        vertical-align: middle;\n",
       "    }\n",
       "\n",
       "    .dataframe tbody tr th {\n",
       "        vertical-align: top;\n",
       "    }\n",
       "\n",
       "    .dataframe thead th {\n",
       "        text-align: right;\n",
       "    }\n",
       "</style>\n",
       "<table border=\"1\" class=\"dataframe\">\n",
       "  <thead>\n",
       "    <tr style=\"text-align: right;\">\n",
       "      <th>LoanFirstDefaultedCycleNumberQ</th>\n",
       "      <th>0.0</th>\n",
       "      <th>4.0</th>\n",
       "      <th>8.0</th>\n",
       "      <th>12.0</th>\n",
       "      <th>16.0</th>\n",
       "      <th>20.0</th>\n",
       "      <th>24.0</th>\n",
       "      <th>28.0</th>\n",
       "      <th>32.0</th>\n",
       "      <th>36.0</th>\n",
       "      <th>40.0</th>\n",
       "      <th>44.0</th>\n",
       "    </tr>\n",
       "    <tr>\n",
       "      <th>LoanMonthsSinceOriginationY</th>\n",
       "      <th></th>\n",
       "      <th></th>\n",
       "      <th></th>\n",
       "      <th></th>\n",
       "      <th></th>\n",
       "      <th></th>\n",
       "      <th></th>\n",
       "      <th></th>\n",
       "      <th></th>\n",
       "      <th></th>\n",
       "      <th></th>\n",
       "      <th></th>\n",
       "    </tr>\n",
       "  </thead>\n",
       "  <tbody>\n",
       "    <tr>\n",
       "      <th>0.0</th>\n",
       "      <td>NaN</td>\n",
       "      <td>0.003355</td>\n",
       "      <td>0.010064</td>\n",
       "      <td>NaN</td>\n",
       "      <td>NaN</td>\n",
       "      <td>NaN</td>\n",
       "      <td>NaN</td>\n",
       "      <td>NaN</td>\n",
       "      <td>NaN</td>\n",
       "      <td>NaN</td>\n",
       "      <td>NaN</td>\n",
       "      <td>NaN</td>\n",
       "    </tr>\n",
       "    <tr>\n",
       "      <th>1.0</th>\n",
       "      <td>0.014195</td>\n",
       "      <td>0.085171</td>\n",
       "      <td>2.186051</td>\n",
       "      <td>2.943125</td>\n",
       "      <td>3.368979</td>\n",
       "      <td>NaN</td>\n",
       "      <td>NaN</td>\n",
       "      <td>NaN</td>\n",
       "      <td>NaN</td>\n",
       "      <td>NaN</td>\n",
       "      <td>NaN</td>\n",
       "      <td>NaN</td>\n",
       "    </tr>\n",
       "    <tr>\n",
       "      <th>2.0</th>\n",
       "      <td>0.039757</td>\n",
       "      <td>0.462181</td>\n",
       "      <td>5.342411</td>\n",
       "      <td>8.180101</td>\n",
       "      <td>12.160819</td>\n",
       "      <td>13.850512</td>\n",
       "      <td>15.132691</td>\n",
       "      <td>15.321539</td>\n",
       "      <td>15.326508</td>\n",
       "      <td>NaN</td>\n",
       "      <td>NaN</td>\n",
       "      <td>NaN</td>\n",
       "    </tr>\n",
       "    <tr>\n",
       "      <th>3.0</th>\n",
       "      <td>0.497830</td>\n",
       "      <td>0.931836</td>\n",
       "      <td>5.731427</td>\n",
       "      <td>8.424815</td>\n",
       "      <td>12.215982</td>\n",
       "      <td>14.003064</td>\n",
       "      <td>16.504978</td>\n",
       "      <td>17.870820</td>\n",
       "      <td>19.019658</td>\n",
       "      <td>19.211131</td>\n",
       "      <td>19.223896</td>\n",
       "      <td>NaN</td>\n",
       "    </tr>\n",
       "    <tr>\n",
       "      <th>4.0</th>\n",
       "      <td>1.117222</td>\n",
       "      <td>1.460983</td>\n",
       "      <td>4.417326</td>\n",
       "      <td>6.170505</td>\n",
       "      <td>8.765899</td>\n",
       "      <td>10.072190</td>\n",
       "      <td>12.220694</td>\n",
       "      <td>13.234789</td>\n",
       "      <td>14.575455</td>\n",
       "      <td>15.177037</td>\n",
       "      <td>15.830182</td>\n",
       "      <td>NaN</td>\n",
       "    </tr>\n",
       "    <tr>\n",
       "      <th>5.0</th>\n",
       "      <td>0.861009</td>\n",
       "      <td>NaN</td>\n",
       "      <td>6.150062</td>\n",
       "      <td>9.963100</td>\n",
       "      <td>14.022140</td>\n",
       "      <td>15.252153</td>\n",
       "      <td>17.958180</td>\n",
       "      <td>19.311193</td>\n",
       "      <td>20.541205</td>\n",
       "      <td>21.156212</td>\n",
       "      <td>22.017220</td>\n",
       "      <td>NaN</td>\n",
       "    </tr>\n",
       "    <tr>\n",
       "      <th>6.0</th>\n",
       "      <td>1.280445</td>\n",
       "      <td>1.851079</td>\n",
       "      <td>8.427279</td>\n",
       "      <td>12.985386</td>\n",
       "      <td>20.215727</td>\n",
       "      <td>23.291580</td>\n",
       "      <td>27.446068</td>\n",
       "      <td>29.485038</td>\n",
       "      <td>31.649269</td>\n",
       "      <td>32.713987</td>\n",
       "      <td>34.036186</td>\n",
       "      <td>34.043145</td>\n",
       "    </tr>\n",
       "    <tr>\n",
       "      <th>7.0</th>\n",
       "      <td>1.988015</td>\n",
       "      <td>2.872634</td>\n",
       "      <td>13.297822</td>\n",
       "      <td>18.814801</td>\n",
       "      <td>25.292495</td>\n",
       "      <td>28.659755</td>\n",
       "      <td>33.368211</td>\n",
       "      <td>35.708171</td>\n",
       "      <td>38.761533</td>\n",
       "      <td>40.017122</td>\n",
       "      <td>41.396366</td>\n",
       "      <td>NaN</td>\n",
       "    </tr>\n",
       "    <tr>\n",
       "      <th>8.0</th>\n",
       "      <td>1.276596</td>\n",
       "      <td>2.723404</td>\n",
       "      <td>11.177305</td>\n",
       "      <td>15.829787</td>\n",
       "      <td>22.978723</td>\n",
       "      <td>25.929078</td>\n",
       "      <td>29.900709</td>\n",
       "      <td>31.659574</td>\n",
       "      <td>34.269504</td>\n",
       "      <td>35.659574</td>\n",
       "      <td>36.964539</td>\n",
       "      <td>NaN</td>\n",
       "    </tr>\n",
       "  </tbody>\n",
       "</table>\n",
       "</div>"
      ],
      "text/plain": [
       "LoanFirstDefaultedCycleNumberQ      0.0       4.0        8.0        12.0  \\\n",
       "LoanMonthsSinceOriginationY                                                \n",
       "0.0                                  NaN  0.003355   0.010064        NaN   \n",
       "1.0                             0.014195  0.085171   2.186051   2.943125   \n",
       "2.0                             0.039757  0.462181   5.342411   8.180101   \n",
       "3.0                             0.497830  0.931836   5.731427   8.424815   \n",
       "4.0                             1.117222  1.460983   4.417326   6.170505   \n",
       "5.0                             0.861009       NaN   6.150062   9.963100   \n",
       "6.0                             1.280445  1.851079   8.427279  12.985386   \n",
       "7.0                             1.988015  2.872634  13.297822  18.814801   \n",
       "8.0                             1.276596  2.723404  11.177305  15.829787   \n",
       "\n",
       "LoanFirstDefaultedCycleNumberQ       16.0       20.0       24.0       28.0  \\\n",
       "LoanMonthsSinceOriginationY                                                  \n",
       "0.0                                   NaN        NaN        NaN        NaN   \n",
       "1.0                              3.368979        NaN        NaN        NaN   \n",
       "2.0                             12.160819  13.850512  15.132691  15.321539   \n",
       "3.0                             12.215982  14.003064  16.504978  17.870820   \n",
       "4.0                              8.765899  10.072190  12.220694  13.234789   \n",
       "5.0                             14.022140  15.252153  17.958180  19.311193   \n",
       "6.0                             20.215727  23.291580  27.446068  29.485038   \n",
       "7.0                             25.292495  28.659755  33.368211  35.708171   \n",
       "8.0                             22.978723  25.929078  29.900709  31.659574   \n",
       "\n",
       "LoanFirstDefaultedCycleNumberQ       32.0       36.0       40.0       44.0  \n",
       "LoanMonthsSinceOriginationY                                                 \n",
       "0.0                                   NaN        NaN        NaN        NaN  \n",
       "1.0                                   NaN        NaN        NaN        NaN  \n",
       "2.0                             15.326508        NaN        NaN        NaN  \n",
       "3.0                             19.019658  19.211131  19.223896        NaN  \n",
       "4.0                             14.575455  15.177037  15.830182        NaN  \n",
       "5.0                             20.541205  21.156212  22.017220        NaN  \n",
       "6.0                             31.649269  32.713987  34.036186  34.043145  \n",
       "7.0                             38.761533  40.017122  41.396366        NaN  \n",
       "8.0                             34.269504  35.659574  36.964539        NaN  "
      ]
     },
     "execution_count": 10,
     "metadata": {},
     "output_type": "execute_result"
    }
   ],
   "source": [
    "df_vin_pvt = df_vintage.pivot(index='LoanMonthsSinceOriginationY', columns='LoanFirstDefaultedCycleNumberQ', values='BR')\n",
    "df_vin_pvt"
   ]
  },
  {
   "cell_type": "markdown",
   "metadata": {},
   "source": [
    "Representamos gráficamente los mismos resultados de la tabla dinámica creada y observamos que los **préstamos más antiguos** son los que presentan más **DEFAULT**"
   ]
  },
  {
   "cell_type": "code",
   "execution_count": 11,
   "metadata": {
    "ExecuteTime": {
     "end_time": "2019-04-25T18:06:02.340733Z",
     "start_time": "2019-04-25T18:06:01.361855Z"
    }
   },
   "outputs": [
    {
     "data": {
      "text/plain": [
       "<matplotlib.axes._subplots.AxesSubplot at 0x2105b4b0c50>"
      ]
     },
     "execution_count": 11,
     "metadata": {},
     "output_type": "execute_result"
    },
    {
     "data": {
      "image/png": "[encoded data removed]",
      "text/plain": [
       "<Figure size 720x360 with 1 Axes>"
      ]
     },
     "metadata": {
      "needs_background": "light"
     },
     "output_type": "display_data"
    }
   ],
   "source": [
    "df_vin_pvt.transpose().plot(figsize=(10, 5))"
   ]
  },
  {
   "cell_type": "markdown",
   "metadata": {},
   "source": [
    "## Good, bad, indeterminate definition"
   ]
  },
  {
   "cell_type": "markdown",
   "metadata": {},
   "source": [
    "## TO DO"
   ]
  },
  {
   "cell_type": "markdown",
   "metadata": {},
   "source": [
    "Vamos a implementar nuestra **PERFORMANCE WINDOW**, así como el fraude asociado, la columna de **INDETERMINADOS** y los préstamos **MALOS**"
   ]
  },
  {
   "cell_type": "code",
   "execution_count": 10,
   "metadata": {},
   "outputs": [],
   "source": [
    "def generate_pop_flags_custom(df, PW_size, TH_fraud=4):\n",
    "    \"\"\"Vamos a realizar una pequeña modificación en la anterior funcionç\n",
    "    con objetivo de que se devuelva una variable nueva\n",
    "    \n",
    "    Args:\n",
    "        df: Pandas DataFrame with the input data\n",
    "        PW_size: Int Performance window size (months)\n",
    "        TH_fraud: Int number of months used as treshold for fraud\n",
    "        \n",
    "    Returns:\n",
    "        Pandas DataFrame with the columns that capture\n",
    "        fraud, bad and indeterminate\n",
    "    \"\"\"\n",
    "    res = pd.DataFrame()\n",
    "    #PW maturity\n",
    "    res['PW'] = df.LoanMonthsSinceOrigination >= PW_size\n",
    "    #handle fraud \n",
    "    res['fraud'] = df.LoanFirstDefaultedCycleNumber <= TH_fraud\n",
    "    #bad definition\n",
    "    res['bad'] = (df.LoanFirstDefaultedCycleNumber > TH_fraud) & (df.LoanFirstDefaultedCycleNumber <= PW_size)\n",
    "    #indeterminates\n",
    "    res['indeterm'] = (df.LoanFirstDefaultedCycleNumber > PW_size)\n",
    "    res.loc[(res.bad == 0) & (df.LoanCurrentDaysDelinquent > 30), 'indeterm'] = True\n",
    "    return df.join(res)"
   ]
  },
  {
   "cell_type": "markdown",
   "metadata": {},
   "source": [
    "A través de la función custom lo que vamos a hacer es probar diferentes parámetros para la Performance Windows y el umbral del fraude"
   ]
  },
  {
   "cell_type": "code",
   "execution_count": 11,
   "metadata": {},
   "outputs": [
    {
     "data": {
      "text/plain": [
       "PW          87315\n",
       "fraud         562\n",
       "bad          1096\n",
       "indeterm    16955\n",
       "dtype: int64"
      ]
     },
     "execution_count": 11,
     "metadata": {},
     "output_type": "execute_result"
    }
   ],
   "source": [
    "first = generate_pop_flags_custom(df, 6)\n",
    "first[['PW', 'fraud', 'bad', 'indeterm']].sum()"
   ]
  },
  {
   "cell_type": "code",
   "execution_count": 12,
   "metadata": {},
   "outputs": [
    {
     "data": {
      "text/plain": [
       "PW          81069\n",
       "fraud        1658\n",
       "bad          1834\n",
       "indeterm    16215\n",
       "dtype: int64"
      ]
     },
     "execution_count": 12,
     "metadata": {},
     "output_type": "execute_result"
    }
   ],
   "source": [
    "second = generate_pop_flags_custom(df, 8, 6)\n",
    "second[['PW', 'fraud', 'bad', 'indeterm']].sum()"
   ]
  },
  {
   "cell_type": "code",
   "execution_count": 13,
   "metadata": {},
   "outputs": [
    {
     "data": {
      "text/plain": [
       "PW          75441\n",
       "fraud         562\n",
       "bad          4737\n",
       "indeterm    13314\n",
       "dtype: int64"
      ]
     },
     "execution_count": 13,
     "metadata": {},
     "output_type": "execute_result"
    }
   ],
   "source": [
    "third = generate_pop_flags_custom(df, 10, 4)\n",
    "third[['PW', 'fraud', 'bad', 'indeterm']].sum()"
   ]
  },
  {
   "cell_type": "code",
   "execution_count": 14,
   "metadata": {},
   "outputs": [
    {
     "data": {
      "text/plain": [
       "PW          75441\n",
       "fraud        1658\n",
       "bad          3641\n",
       "indeterm    14408\n",
       "dtype: int64"
      ]
     },
     "execution_count": 14,
     "metadata": {},
     "output_type": "execute_result"
    }
   ],
   "source": [
    "fourth = generate_pop_flags_custom(df, 10, 6)\n",
    "fourth[['PW', 'fraud', 'bad', 'indeterm']].sum()"
   ]
  },
  {
   "cell_type": "code",
   "execution_count": 15,
   "metadata": {},
   "outputs": [
    {
     "data": {
      "text/plain": [
       "PW          71036\n",
       "fraud         562\n",
       "bad          6397\n",
       "indeterm    11654\n",
       "dtype: int64"
      ]
     },
     "execution_count": 15,
     "metadata": {},
     "output_type": "execute_result"
    }
   ],
   "source": [
    "fifth = generate_pop_flags_custom(df, 12)\n",
    "fifth[['PW', 'fraud', 'bad', 'indeterm']].sum()"
   ]
  },
  {
   "cell_type": "markdown",
   "metadata": {},
   "source": [
    "Ahora se aplica la funcion original con los parametros que hemos comprobado previamente\n",
    "Esta funcion modificada el dataframe original, asi que hay que correrla debajo de la custom"
   ]
  },
  {
   "cell_type": "code",
   "execution_count": 16,
   "metadata": {
    "ExecuteTime": {
     "end_time": "2019-04-25T18:44:55.552507Z",
     "start_time": "2019-04-25T18:44:55.434334Z"
    }
   },
   "outputs": [
    {
     "data": {
      "text/html": [
       "<div>\n",
       "<style scoped>\n",
       "    .dataframe tbody tr th:only-of-type {\n",
       "        vertical-align: middle;\n",
       "    }\n",
       "\n",
       "    .dataframe tbody tr th {\n",
       "        vertical-align: top;\n",
       "    }\n",
       "\n",
       "    .dataframe thead th {\n",
       "        text-align: right;\n",
       "    }\n",
       "</style>\n",
       "<table border=\"1\" class=\"dataframe\">\n",
       "  <thead>\n",
       "    <tr style=\"text-align: right;\">\n",
       "      <th></th>\n",
       "      <th>ListingKey</th>\n",
       "      <th>ListingNumber</th>\n",
       "      <th>ListingCreationDate</th>\n",
       "      <th>CreditGrade</th>\n",
       "      <th>Term</th>\n",
       "      <th>LoanStatus</th>\n",
       "      <th>ClosedDate</th>\n",
       "      <th>BorrowerAPR</th>\n",
       "      <th>BorrowerRate</th>\n",
       "      <th>LenderYield</th>\n",
       "      <th>...</th>\n",
       "      <th>InvestmentFromFriendsCount</th>\n",
       "      <th>InvestmentFromFriendsAmount</th>\n",
       "      <th>Investors</th>\n",
       "      <th>LoanMonthsSinceOriginationY</th>\n",
       "      <th>LoanFirstDefaultedCycleNumberQ</th>\n",
       "      <th>bad_aux</th>\n",
       "      <th>PW</th>\n",
       "      <th>fraud</th>\n",
       "      <th>bad</th>\n",
       "      <th>indeterm</th>\n",
       "    </tr>\n",
       "  </thead>\n",
       "  <tbody>\n",
       "    <tr>\n",
       "      <th>0</th>\n",
       "      <td>1021339766868145413AB3B</td>\n",
       "      <td>193129</td>\n",
       "      <td>2007-08-26 19:09:29.263000000</td>\n",
       "      <td>C</td>\n",
       "      <td>36</td>\n",
       "      <td>Completed</td>\n",
       "      <td>2009-08-14 00:00:00</td>\n",
       "      <td>0.16516</td>\n",
       "      <td>0.158</td>\n",
       "      <td>0.138</td>\n",
       "      <td>...</td>\n",
       "      <td>0</td>\n",
       "      <td>0.0</td>\n",
       "      <td>258</td>\n",
       "      <td>6.0</td>\n",
       "      <td>NaN</td>\n",
       "      <td>False</td>\n",
       "      <td>True</td>\n",
       "      <td>False</td>\n",
       "      <td>False</td>\n",
       "      <td>False</td>\n",
       "    </tr>\n",
       "    <tr>\n",
       "      <th>1</th>\n",
       "      <td>10273602499503308B223C1</td>\n",
       "      <td>1209647</td>\n",
       "      <td>2014-02-27 08:28:07.900000000</td>\n",
       "      <td>NaN</td>\n",
       "      <td>36</td>\n",
       "      <td>Current</td>\n",
       "      <td>NaN</td>\n",
       "      <td>0.12016</td>\n",
       "      <td>0.092</td>\n",
       "      <td>0.082</td>\n",
       "      <td>...</td>\n",
       "      <td>0</td>\n",
       "      <td>0.0</td>\n",
       "      <td>1</td>\n",
       "      <td>0.0</td>\n",
       "      <td>NaN</td>\n",
       "      <td>False</td>\n",
       "      <td>False</td>\n",
       "      <td>False</td>\n",
       "      <td>False</td>\n",
       "      <td>False</td>\n",
       "    </tr>\n",
       "    <tr>\n",
       "      <th>2</th>\n",
       "      <td>0EE9337825851032864889A</td>\n",
       "      <td>81716</td>\n",
       "      <td>2007-01-05 15:00:47.090000000</td>\n",
       "      <td>HR</td>\n",
       "      <td>36</td>\n",
       "      <td>Completed</td>\n",
       "      <td>2009-12-17 00:00:00</td>\n",
       "      <td>0.28269</td>\n",
       "      <td>0.275</td>\n",
       "      <td>0.240</td>\n",
       "      <td>...</td>\n",
       "      <td>0</td>\n",
       "      <td>0.0</td>\n",
       "      <td>41</td>\n",
       "      <td>7.0</td>\n",
       "      <td>NaN</td>\n",
       "      <td>False</td>\n",
       "      <td>True</td>\n",
       "      <td>False</td>\n",
       "      <td>False</td>\n",
       "      <td>False</td>\n",
       "    </tr>\n",
       "  </tbody>\n",
       "</table>\n",
       "<p>3 rows × 88 columns</p>\n",
       "</div>"
      ],
      "text/plain": [
       "                ListingKey  ListingNumber            ListingCreationDate  \\\n",
       "0  1021339766868145413AB3B         193129  2007-08-26 19:09:29.263000000   \n",
       "1  10273602499503308B223C1        1209647  2014-02-27 08:28:07.900000000   \n",
       "2  0EE9337825851032864889A          81716  2007-01-05 15:00:47.090000000   \n",
       "\n",
       "  CreditGrade  Term LoanStatus           ClosedDate  BorrowerAPR  \\\n",
       "0           C    36  Completed  2009-08-14 00:00:00      0.16516   \n",
       "1         NaN    36    Current                  NaN      0.12016   \n",
       "2          HR    36  Completed  2009-12-17 00:00:00      0.28269   \n",
       "\n",
       "   BorrowerRate  LenderYield  ...  InvestmentFromFriendsCount  \\\n",
       "0         0.158        0.138  ...                           0   \n",
       "1         0.092        0.082  ...                           0   \n",
       "2         0.275        0.240  ...                           0   \n",
       "\n",
       "   InvestmentFromFriendsAmount  Investors  LoanMonthsSinceOriginationY  \\\n",
       "0                          0.0        258                          6.0   \n",
       "1                          0.0          1                          0.0   \n",
       "2                          0.0         41                          7.0   \n",
       "\n",
       "  LoanFirstDefaultedCycleNumberQ  bad_aux     PW  fraud    bad indeterm  \n",
       "0                            NaN    False   True  False  False    False  \n",
       "1                            NaN    False  False  False  False    False  \n",
       "2                            NaN    False   True  False  False    False  \n",
       "\n",
       "[3 rows x 88 columns]"
      ]
     },
     "execution_count": 16,
     "metadata": {},
     "output_type": "execute_result"
    }
   ],
   "source": [
    "generate_pop_flags_custom(df, 6).head(3)"
   ]
  },
  {
   "cell_type": "markdown",
   "metadata": {},
   "source": [
    "Aplicamos la función original para transformar el dataframe original"
   ]
  },
  {
   "cell_type": "code",
   "execution_count": 17,
   "metadata": {
    "ExecuteTime": {
     "end_time": "2019-04-25T18:45:04.463165Z",
     "start_time": "2019-04-25T18:45:04.312127Z"
    }
   },
   "outputs": [
    {
     "data": {
      "text/html": [
       "<div>\n",
       "<style scoped>\n",
       "    .dataframe tbody tr th:only-of-type {\n",
       "        vertical-align: middle;\n",
       "    }\n",
       "\n",
       "    .dataframe tbody tr th {\n",
       "        vertical-align: top;\n",
       "    }\n",
       "\n",
       "    .dataframe thead th {\n",
       "        text-align: right;\n",
       "    }\n",
       "</style>\n",
       "<table border=\"1\" class=\"dataframe\">\n",
       "  <thead>\n",
       "    <tr style=\"text-align: right;\">\n",
       "      <th></th>\n",
       "      <th>ListingKey</th>\n",
       "      <th>ListingNumber</th>\n",
       "      <th>ListingCreationDate</th>\n",
       "      <th>CreditGrade</th>\n",
       "      <th>Term</th>\n",
       "      <th>LoanStatus</th>\n",
       "      <th>ClosedDate</th>\n",
       "      <th>BorrowerAPR</th>\n",
       "      <th>BorrowerRate</th>\n",
       "      <th>LenderYield</th>\n",
       "      <th>...</th>\n",
       "      <th>LP_NetPrincipalLoss</th>\n",
       "      <th>LP_NonPrincipalRecoverypayments</th>\n",
       "      <th>PercentFunded</th>\n",
       "      <th>Recommendations</th>\n",
       "      <th>InvestmentFromFriendsCount</th>\n",
       "      <th>InvestmentFromFriendsAmount</th>\n",
       "      <th>Investors</th>\n",
       "      <th>LoanMonthsSinceOriginationY</th>\n",
       "      <th>LoanFirstDefaultedCycleNumberQ</th>\n",
       "      <th>bad_aux</th>\n",
       "    </tr>\n",
       "  </thead>\n",
       "  <tbody>\n",
       "    <tr>\n",
       "      <th>0</th>\n",
       "      <td>1021339766868145413AB3B</td>\n",
       "      <td>193129</td>\n",
       "      <td>2007-08-26 19:09:29.263000000</td>\n",
       "      <td>C</td>\n",
       "      <td>36</td>\n",
       "      <td>Completed</td>\n",
       "      <td>2009-08-14 00:00:00</td>\n",
       "      <td>0.16516</td>\n",
       "      <td>0.158</td>\n",
       "      <td>0.138</td>\n",
       "      <td>...</td>\n",
       "      <td>0.0</td>\n",
       "      <td>0.0</td>\n",
       "      <td>1.0</td>\n",
       "      <td>0</td>\n",
       "      <td>0</td>\n",
       "      <td>0.0</td>\n",
       "      <td>258</td>\n",
       "      <td>6.0</td>\n",
       "      <td>NaN</td>\n",
       "      <td>False</td>\n",
       "    </tr>\n",
       "    <tr>\n",
       "      <th>1</th>\n",
       "      <td>10273602499503308B223C1</td>\n",
       "      <td>1209647</td>\n",
       "      <td>2014-02-27 08:28:07.900000000</td>\n",
       "      <td>NaN</td>\n",
       "      <td>36</td>\n",
       "      <td>Current</td>\n",
       "      <td>NaN</td>\n",
       "      <td>0.12016</td>\n",
       "      <td>0.092</td>\n",
       "      <td>0.082</td>\n",
       "      <td>...</td>\n",
       "      <td>0.0</td>\n",
       "      <td>0.0</td>\n",
       "      <td>1.0</td>\n",
       "      <td>0</td>\n",
       "      <td>0</td>\n",
       "      <td>0.0</td>\n",
       "      <td>1</td>\n",
       "      <td>0.0</td>\n",
       "      <td>NaN</td>\n",
       "      <td>False</td>\n",
       "    </tr>\n",
       "    <tr>\n",
       "      <th>2</th>\n",
       "      <td>0EE9337825851032864889A</td>\n",
       "      <td>81716</td>\n",
       "      <td>2007-01-05 15:00:47.090000000</td>\n",
       "      <td>HR</td>\n",
       "      <td>36</td>\n",
       "      <td>Completed</td>\n",
       "      <td>2009-12-17 00:00:00</td>\n",
       "      <td>0.28269</td>\n",
       "      <td>0.275</td>\n",
       "      <td>0.240</td>\n",
       "      <td>...</td>\n",
       "      <td>0.0</td>\n",
       "      <td>0.0</td>\n",
       "      <td>1.0</td>\n",
       "      <td>0</td>\n",
       "      <td>0</td>\n",
       "      <td>0.0</td>\n",
       "      <td>41</td>\n",
       "      <td>7.0</td>\n",
       "      <td>NaN</td>\n",
       "      <td>False</td>\n",
       "    </tr>\n",
       "  </tbody>\n",
       "</table>\n",
       "<p>3 rows × 84 columns</p>\n",
       "</div>"
      ],
      "text/plain": [
       "                ListingKey  ListingNumber            ListingCreationDate  \\\n",
       "0  1021339766868145413AB3B         193129  2007-08-26 19:09:29.263000000   \n",
       "1  10273602499503308B223C1        1209647  2014-02-27 08:28:07.900000000   \n",
       "2  0EE9337825851032864889A          81716  2007-01-05 15:00:47.090000000   \n",
       "\n",
       "  CreditGrade  Term LoanStatus           ClosedDate  BorrowerAPR  \\\n",
       "0           C    36  Completed  2009-08-14 00:00:00      0.16516   \n",
       "1         NaN    36    Current                  NaN      0.12016   \n",
       "2          HR    36  Completed  2009-12-17 00:00:00      0.28269   \n",
       "\n",
       "   BorrowerRate  LenderYield  ...  LP_NetPrincipalLoss  \\\n",
       "0         0.158        0.138  ...                  0.0   \n",
       "1         0.092        0.082  ...                  0.0   \n",
       "2         0.275        0.240  ...                  0.0   \n",
       "\n",
       "   LP_NonPrincipalRecoverypayments  PercentFunded  Recommendations  \\\n",
       "0                              0.0            1.0                0   \n",
       "1                              0.0            1.0                0   \n",
       "2                              0.0            1.0                0   \n",
       "\n",
       "  InvestmentFromFriendsCount  InvestmentFromFriendsAmount  Investors  \\\n",
       "0                          0                          0.0        258   \n",
       "1                          0                          0.0          1   \n",
       "2                          0                          0.0         41   \n",
       "\n",
       "  LoanMonthsSinceOriginationY LoanFirstDefaultedCycleNumberQ bad_aux  \n",
       "0                         6.0                            NaN   False  \n",
       "1                         0.0                            NaN   False  \n",
       "2                         7.0                            NaN   False  \n",
       "\n",
       "[3 rows x 84 columns]"
      ]
     },
     "execution_count": 17,
     "metadata": {},
     "output_type": "execute_result"
    }
   ],
   "source": [
    "df.head(3)"
   ]
  },
  {
   "cell_type": "markdown",
   "metadata": {},
   "source": [
    "## TO DO"
   ]
  },
  {
   "cell_type": "markdown",
   "metadata": {},
   "source": [
    "Vamos a elegir nuestra PW. La ponemos con valor 12 ya que no tendría mucho sentido poner una ventana inferior a un año y obtenemos los siguientes resultados"
   ]
  },
  {
   "cell_type": "code",
   "execution_count": 18,
   "metadata": {},
   "outputs": [
    {
     "data": {
      "text/plain": [
       "PW          71036\n",
       "fraud         562\n",
       "bad          6397\n",
       "indeterm    11654\n",
       "dtype: int64"
      ]
     },
     "execution_count": 18,
     "metadata": {},
     "output_type": "execute_result"
    }
   ],
   "source": [
    "fifth = generate_pop_flags_custom(df, 12)\n",
    "fifth[['PW', 'fraud', 'bad', 'indeterm']].sum()"
   ]
  },
  {
   "cell_type": "code",
   "execution_count": 19,
   "metadata": {},
   "outputs": [
    {
     "data": {
      "text/html": [
       "<div>\n",
       "<style scoped>\n",
       "    .dataframe tbody tr th:only-of-type {\n",
       "        vertical-align: middle;\n",
       "    }\n",
       "\n",
       "    .dataframe tbody tr th {\n",
       "        vertical-align: top;\n",
       "    }\n",
       "\n",
       "    .dataframe thead th {\n",
       "        text-align: right;\n",
       "    }\n",
       "</style>\n",
       "<table border=\"1\" class=\"dataframe\">\n",
       "  <thead>\n",
       "    <tr style=\"text-align: right;\">\n",
       "      <th></th>\n",
       "      <th>ListingKey</th>\n",
       "      <th>ListingNumber</th>\n",
       "      <th>ListingCreationDate</th>\n",
       "      <th>CreditGrade</th>\n",
       "      <th>Term</th>\n",
       "      <th>LoanStatus</th>\n",
       "      <th>ClosedDate</th>\n",
       "      <th>BorrowerAPR</th>\n",
       "      <th>BorrowerRate</th>\n",
       "      <th>LenderYield</th>\n",
       "      <th>...</th>\n",
       "      <th>InvestmentFromFriendsCount</th>\n",
       "      <th>InvestmentFromFriendsAmount</th>\n",
       "      <th>Investors</th>\n",
       "      <th>LoanMonthsSinceOriginationY</th>\n",
       "      <th>LoanFirstDefaultedCycleNumberQ</th>\n",
       "      <th>bad_aux</th>\n",
       "      <th>PW</th>\n",
       "      <th>fraud</th>\n",
       "      <th>bad</th>\n",
       "      <th>indeterm</th>\n",
       "    </tr>\n",
       "  </thead>\n",
       "  <tbody>\n",
       "    <tr>\n",
       "      <th>0</th>\n",
       "      <td>1021339766868145413AB3B</td>\n",
       "      <td>193129</td>\n",
       "      <td>2007-08-26 19:09:29.263000000</td>\n",
       "      <td>C</td>\n",
       "      <td>36</td>\n",
       "      <td>Completed</td>\n",
       "      <td>2009-08-14 00:00:00</td>\n",
       "      <td>0.16516</td>\n",
       "      <td>0.158</td>\n",
       "      <td>0.138</td>\n",
       "      <td>...</td>\n",
       "      <td>0</td>\n",
       "      <td>0.0</td>\n",
       "      <td>258</td>\n",
       "      <td>6.0</td>\n",
       "      <td>NaN</td>\n",
       "      <td>False</td>\n",
       "      <td>True</td>\n",
       "      <td>False</td>\n",
       "      <td>False</td>\n",
       "      <td>False</td>\n",
       "    </tr>\n",
       "    <tr>\n",
       "      <th>1</th>\n",
       "      <td>10273602499503308B223C1</td>\n",
       "      <td>1209647</td>\n",
       "      <td>2014-02-27 08:28:07.900000000</td>\n",
       "      <td>NaN</td>\n",
       "      <td>36</td>\n",
       "      <td>Current</td>\n",
       "      <td>NaN</td>\n",
       "      <td>0.12016</td>\n",
       "      <td>0.092</td>\n",
       "      <td>0.082</td>\n",
       "      <td>...</td>\n",
       "      <td>0</td>\n",
       "      <td>0.0</td>\n",
       "      <td>1</td>\n",
       "      <td>0.0</td>\n",
       "      <td>NaN</td>\n",
       "      <td>False</td>\n",
       "      <td>False</td>\n",
       "      <td>False</td>\n",
       "      <td>False</td>\n",
       "      <td>False</td>\n",
       "    </tr>\n",
       "  </tbody>\n",
       "</table>\n",
       "<p>2 rows × 88 columns</p>\n",
       "</div>"
      ],
      "text/plain": [
       "                ListingKey  ListingNumber            ListingCreationDate  \\\n",
       "0  1021339766868145413AB3B         193129  2007-08-26 19:09:29.263000000   \n",
       "1  10273602499503308B223C1        1209647  2014-02-27 08:28:07.900000000   \n",
       "\n",
       "  CreditGrade  Term LoanStatus           ClosedDate  BorrowerAPR  \\\n",
       "0           C    36  Completed  2009-08-14 00:00:00      0.16516   \n",
       "1         NaN    36    Current                  NaN      0.12016   \n",
       "\n",
       "   BorrowerRate  LenderYield  ...  InvestmentFromFriendsCount  \\\n",
       "0         0.158        0.138  ...                           0   \n",
       "1         0.092        0.082  ...                           0   \n",
       "\n",
       "   InvestmentFromFriendsAmount  Investors  LoanMonthsSinceOriginationY  \\\n",
       "0                          0.0        258                          6.0   \n",
       "1                          0.0          1                          0.0   \n",
       "\n",
       "  LoanFirstDefaultedCycleNumberQ  bad_aux     PW  fraud    bad indeterm  \n",
       "0                            NaN    False   True  False  False    False  \n",
       "1                            NaN    False  False  False  False    False  \n",
       "\n",
       "[2 rows x 88 columns]"
      ]
     },
     "execution_count": 19,
     "metadata": {},
     "output_type": "execute_result"
    }
   ],
   "source": [
    "generate_pop_flags_custom(df, 12).head(2)"
   ]
  },
  {
   "cell_type": "code",
   "execution_count": 20,
   "metadata": {},
   "outputs": [
    {
     "data": {
      "text/html": [
       "<div>\n",
       "<style scoped>\n",
       "    .dataframe tbody tr th:only-of-type {\n",
       "        vertical-align: middle;\n",
       "    }\n",
       "\n",
       "    .dataframe tbody tr th {\n",
       "        vertical-align: top;\n",
       "    }\n",
       "\n",
       "    .dataframe thead th {\n",
       "        text-align: right;\n",
       "    }\n",
       "</style>\n",
       "<table border=\"1\" class=\"dataframe\">\n",
       "  <thead>\n",
       "    <tr style=\"text-align: right;\">\n",
       "      <th></th>\n",
       "      <th>ListingKey</th>\n",
       "      <th>ListingNumber</th>\n",
       "      <th>ListingCreationDate</th>\n",
       "      <th>CreditGrade</th>\n",
       "      <th>Term</th>\n",
       "      <th>LoanStatus</th>\n",
       "      <th>ClosedDate</th>\n",
       "      <th>BorrowerAPR</th>\n",
       "      <th>BorrowerRate</th>\n",
       "      <th>LenderYield</th>\n",
       "      <th>...</th>\n",
       "      <th>LP_NetPrincipalLoss</th>\n",
       "      <th>LP_NonPrincipalRecoverypayments</th>\n",
       "      <th>PercentFunded</th>\n",
       "      <th>Recommendations</th>\n",
       "      <th>InvestmentFromFriendsCount</th>\n",
       "      <th>InvestmentFromFriendsAmount</th>\n",
       "      <th>Investors</th>\n",
       "      <th>LoanMonthsSinceOriginationY</th>\n",
       "      <th>LoanFirstDefaultedCycleNumberQ</th>\n",
       "      <th>bad_aux</th>\n",
       "    </tr>\n",
       "  </thead>\n",
       "  <tbody>\n",
       "    <tr>\n",
       "      <th>0</th>\n",
       "      <td>1021339766868145413AB3B</td>\n",
       "      <td>193129</td>\n",
       "      <td>2007-08-26 19:09:29.263000000</td>\n",
       "      <td>C</td>\n",
       "      <td>36</td>\n",
       "      <td>Completed</td>\n",
       "      <td>2009-08-14 00:00:00</td>\n",
       "      <td>0.16516</td>\n",
       "      <td>0.158</td>\n",
       "      <td>0.138</td>\n",
       "      <td>...</td>\n",
       "      <td>0.0</td>\n",
       "      <td>0.0</td>\n",
       "      <td>1.0</td>\n",
       "      <td>0</td>\n",
       "      <td>0</td>\n",
       "      <td>0.0</td>\n",
       "      <td>258</td>\n",
       "      <td>6.0</td>\n",
       "      <td>NaN</td>\n",
       "      <td>False</td>\n",
       "    </tr>\n",
       "    <tr>\n",
       "      <th>1</th>\n",
       "      <td>10273602499503308B223C1</td>\n",
       "      <td>1209647</td>\n",
       "      <td>2014-02-27 08:28:07.900000000</td>\n",
       "      <td>NaN</td>\n",
       "      <td>36</td>\n",
       "      <td>Current</td>\n",
       "      <td>NaN</td>\n",
       "      <td>0.12016</td>\n",
       "      <td>0.092</td>\n",
       "      <td>0.082</td>\n",
       "      <td>...</td>\n",
       "      <td>0.0</td>\n",
       "      <td>0.0</td>\n",
       "      <td>1.0</td>\n",
       "      <td>0</td>\n",
       "      <td>0</td>\n",
       "      <td>0.0</td>\n",
       "      <td>1</td>\n",
       "      <td>0.0</td>\n",
       "      <td>NaN</td>\n",
       "      <td>False</td>\n",
       "    </tr>\n",
       "  </tbody>\n",
       "</table>\n",
       "<p>2 rows × 84 columns</p>\n",
       "</div>"
      ],
      "text/plain": [
       "                ListingKey  ListingNumber            ListingCreationDate  \\\n",
       "0  1021339766868145413AB3B         193129  2007-08-26 19:09:29.263000000   \n",
       "1  10273602499503308B223C1        1209647  2014-02-27 08:28:07.900000000   \n",
       "\n",
       "  CreditGrade  Term LoanStatus           ClosedDate  BorrowerAPR  \\\n",
       "0           C    36  Completed  2009-08-14 00:00:00      0.16516   \n",
       "1         NaN    36    Current                  NaN      0.12016   \n",
       "\n",
       "   BorrowerRate  LenderYield  ...  LP_NetPrincipalLoss  \\\n",
       "0         0.158        0.138  ...                  0.0   \n",
       "1         0.092        0.082  ...                  0.0   \n",
       "\n",
       "   LP_NonPrincipalRecoverypayments  PercentFunded  Recommendations  \\\n",
       "0                              0.0            1.0                0   \n",
       "1                              0.0            1.0                0   \n",
       "\n",
       "  InvestmentFromFriendsCount  InvestmentFromFriendsAmount  Investors  \\\n",
       "0                          0                          0.0        258   \n",
       "1                          0                          0.0          1   \n",
       "\n",
       "  LoanMonthsSinceOriginationY LoanFirstDefaultedCycleNumberQ bad_aux  \n",
       "0                         6.0                            NaN   False  \n",
       "1                         0.0                            NaN   False  \n",
       "\n",
       "[2 rows x 84 columns]"
      ]
     },
     "execution_count": 20,
     "metadata": {},
     "output_type": "execute_result"
    }
   ],
   "source": [
    "df.head(2)"
   ]
  },
  {
   "cell_type": "code",
   "execution_count": 14,
   "metadata": {},
   "outputs": [],
   "source": [
    "PW_size = 12\n",
    "TH_fraud= 4"
   ]
  },
  {
   "cell_type": "code",
   "execution_count": 15,
   "metadata": {},
   "outputs": [],
   "source": [
    "df['PW']= df.LoanMonthsSinceOrigination >= PW_size\n",
    "df['fraud']= df.LoanFirstDefaultedCycleNumber <= TH_fraud\n",
    "df['bad']= (df.LoanFirstDefaultedCycleNumber> TH_fraud) & (df.LoanFirstDefaultedCycleNumber <= PW_size)\n",
    "df['indeterm']= (df.LoanFirstDefaultedCycleNumber> PW_size)\n",
    "df.loc[(df.bad==0) & (df.LoanCurrentDaysDelinquent> 30), 'indeterm']= True"
   ]
  },
  {
   "cell_type": "code",
   "execution_count": 16,
   "metadata": {},
   "outputs": [
    {
     "data": {
      "text/plain": [
       "PW          71036\n",
       "fraud         562\n",
       "bad          6397\n",
       "indeterm    11654\n",
       "dtype: int64"
      ]
     },
     "execution_count": 16,
     "metadata": {},
     "output_type": "execute_result"
    }
   ],
   "source": [
    "df[['PW', 'fraud', 'bad', 'indeterm']].sum()"
   ]
  },
  {
   "cell_type": "markdown",
   "metadata": {},
   "source": [
    "## TO DO"
   ]
  },
  {
   "cell_type": "markdown",
   "metadata": {},
   "source": [
    "Explicamos los comandos de abajo, paso por paso:\n",
    "\n",
    "\n",
    "- Coger el target activado y sacar valores diferentes que toma la variable usada\n",
    "\n",
    "\n",
    "- La definición de malo se basa en qué día incurrió en impago. El hecho que aparezca un 0 significa que a fecha actual el préstamo ha quedado regularizado. El hecho de que aparezcan 12 ceros significa que puede haberse incurrido en impago pero que posteriormente se ha formalizado.\n"
   ]
  },
  {
   "cell_type": "code",
   "execution_count": 17,
   "metadata": {
    "ExecuteTime": {
     "end_time": "2019-04-12T20:26:21.472883Z",
     "start_time": "2019-04-12T20:26:21.406927Z"
    }
   },
   "outputs": [
    {
     "data": {
      "text/plain": [
       "0      12\n",
       "16      1\n",
       "24      1\n",
       "34      1\n",
       "58      1\n",
       "67      1\n",
       "90      1\n",
       "92      1\n",
       "93      4\n",
       "94      1\n",
       "95      3\n",
       "97      1\n",
       "98      1\n",
       "101     2\n",
       "103     2\n",
       "104     1\n",
       "105     1\n",
       "106     1\n",
       "107     2\n",
       "108     4\n",
       "Name: LoanCurrentDaysDelinquent, dtype: int64"
      ]
     },
     "metadata": {},
     "output_type": "display_data"
    },
    {
     "data": {
      "text/plain": [
       "Chargedoff    4038\n",
       "Completed       12\n",
       "Defaulted     2347\n",
       "Name: LoanStatus, dtype: int64"
      ]
     },
     "execution_count": 17,
     "metadata": {},
     "output_type": "execute_result"
    }
   ],
   "source": [
    "display(df.loc[df.bad==True, 'LoanCurrentDaysDelinquent'].value_counts().sort_index()[:20])\n",
    "df.loc[df.bad==True, 'LoanStatus'].value_counts().sort_index()[:20]"
   ]
  },
  {
   "cell_type": "markdown",
   "metadata": {},
   "source": [
    "## First exclusion set"
   ]
  },
  {
   "cell_type": "markdown",
   "metadata": {},
   "source": [
    "Tenemos que mantener suficiente madurez en nuestros datos una vez definida nuestra **PERFOMANCE WINDOW**. Para ello vamos a realizar una serie de filtros. Todos los préstamos cuya fecha de Originación sean **mayores a un año** se cogerán. Por otra parte, aquellos que hayan sido fraude tampoco se tendrán en cuenta\n",
    "\n",
    "**Nota**: Que sean mayores a un año es así debido a que nuestra Performance Window se ha seleccionado por un período de 1 año"
   ]
  },
  {
   "cell_type": "markdown",
   "metadata": {},
   "source": [
    "Trataremos posteriormente con los indeterminados"
   ]
  },
  {
   "cell_type": "code",
   "execution_count": 18,
   "metadata": {
    "ExecuteTime": {
     "end_time": "2019-04-12T20:26:21.645224Z",
     "start_time": "2019-04-12T20:26:21.501445Z"
    }
   },
   "outputs": [],
   "source": [
    "def filter_exclusions(df):\n",
    "    \"\"\"Function that handles the population definition\n",
    "    \n",
    "    Args:\n",
    "        df: Pandas DataFrame with the in time input data\n",
    "        \n",
    "    Returns:\n",
    "        Pandas DataFrame with the population definition applied\n",
    "    \"\"\"\n",
    "\n",
    "    filtro1 = df.LoanMonthsSinceOrigination >= PW_size\n",
    "    filtro2 = df.fraud == False\n",
    "\n",
    "    res = df[(filtro1 & filtro2)]\n",
    "    return(res)"
   ]
  },
  {
   "cell_type": "code",
   "execution_count": 19,
   "metadata": {
    "ExecuteTime": {
     "end_time": "2019-04-12T20:26:21.669661Z",
     "start_time": "2019-04-12T20:26:21.654986Z"
    }
   },
   "outputs": [
    {
     "name": "stdout",
     "output_type": "stream",
     "text": [
      "The DataSet has 70475 rows and 88 columns\n"
     ]
    }
   ],
   "source": [
    "df = filter_exclusions(df)\n",
    "print('The DataSet has {} rows and {} columns'.format(df.shape[0], df.shape[1]))"
   ]
  },
  {
   "cell_type": "markdown",
   "metadata": {},
   "source": [
    "Con todos estos filtros el número total de observaciones que se nos quedan son 70.475, que comparadas con las iniciales las cuales teníamos unas 113.937 representa un descendo aproximado del 61% sobre el total inicial."
   ]
  },
  {
   "cell_type": "markdown",
   "metadata": {},
   "source": [
    "## Bad rate"
   ]
  },
  {
   "cell_type": "code",
   "execution_count": 20,
   "metadata": {
    "ExecuteTime": {
     "end_time": "2019-04-12T20:26:21.701528Z",
     "start_time": "2019-04-12T20:26:21.677973Z"
    }
   },
   "outputs": [
    {
     "data": {
      "text/plain": [
       "False    64266\n",
       "True      6209\n",
       "Name: bad, dtype: int64"
      ]
     },
     "execution_count": 20,
     "metadata": {},
     "output_type": "execute_result"
    }
   ],
   "source": [
    "df.bad.value_counts()"
   ]
  },
  {
   "cell_type": "code",
   "execution_count": 22,
   "metadata": {
    "ExecuteTime": {
     "end_time": "2019-04-12T20:26:21.733641Z",
     "start_time": "2019-04-12T20:26:21.709742Z"
    }
   },
   "outputs": [
    {
     "data": {
      "text/plain": [
       "False    91.189784\n",
       "True      8.810216\n",
       "Name: bad, dtype: float64"
      ]
     },
     "execution_count": 22,
     "metadata": {},
     "output_type": "execute_result"
    }
   ],
   "source": [
    "100. * df.bad.value_counts() / df.shape[0]"
   ]
  },
  {
   "cell_type": "code",
   "execution_count": 23,
   "metadata": {
    "ExecuteTime": {
     "end_time": "2019-04-12T20:26:21.802128Z",
     "start_time": "2019-04-12T20:26:21.742727Z"
    }
   },
   "outputs": [
    {
     "data": {
      "text/html": [
       "<div>\n",
       "<style scoped>\n",
       "    .dataframe tbody tr th:only-of-type {\n",
       "        vertical-align: middle;\n",
       "    }\n",
       "\n",
       "    .dataframe tbody tr th {\n",
       "        vertical-align: top;\n",
       "    }\n",
       "\n",
       "    .dataframe thead th {\n",
       "        text-align: right;\n",
       "    }\n",
       "</style>\n",
       "<table border=\"1\" class=\"dataframe\">\n",
       "  <thead>\n",
       "    <tr style=\"text-align: right;\">\n",
       "      <th></th>\n",
       "      <th>ListingCreationDate</th>\n",
       "      <th>LoanOriginationDate</th>\n",
       "    </tr>\n",
       "  </thead>\n",
       "  <tbody>\n",
       "    <tr>\n",
       "      <th>0</th>\n",
       "      <td>2007-08-26 19:09:29.263000000</td>\n",
       "      <td>2007-09-12 00:00:00</td>\n",
       "    </tr>\n",
       "    <tr>\n",
       "      <th>2</th>\n",
       "      <td>2007-01-05 15:00:47.090000000</td>\n",
       "      <td>2007-01-17 00:00:00</td>\n",
       "    </tr>\n",
       "    <tr>\n",
       "      <th>3</th>\n",
       "      <td>2012-10-22 11:02:35.010000000</td>\n",
       "      <td>2012-11-01 00:00:00</td>\n",
       "    </tr>\n",
       "    <tr>\n",
       "      <th>10</th>\n",
       "      <td>2012-05-10 07:04:01.577000000</td>\n",
       "      <td>2012-05-17 00:00:00</td>\n",
       "    </tr>\n",
       "    <tr>\n",
       "      <th>11</th>\n",
       "      <td>2007-10-09 20:28:33.640000000</td>\n",
       "      <td>2007-10-18 00:00:00</td>\n",
       "    </tr>\n",
       "  </tbody>\n",
       "</table>\n",
       "</div>"
      ],
      "text/plain": [
       "              ListingCreationDate  LoanOriginationDate\n",
       "0   2007-08-26 19:09:29.263000000  2007-09-12 00:00:00\n",
       "2   2007-01-05 15:00:47.090000000  2007-01-17 00:00:00\n",
       "3   2012-10-22 11:02:35.010000000  2012-11-01 00:00:00\n",
       "10  2012-05-10 07:04:01.577000000  2012-05-17 00:00:00\n",
       "11  2007-10-09 20:28:33.640000000  2007-10-18 00:00:00"
      ]
     },
     "execution_count": 23,
     "metadata": {},
     "output_type": "execute_result"
    }
   ],
   "source": [
    "df[['ListingCreationDate', 'LoanOriginationDate']].head()"
   ]
  },
  {
   "cell_type": "code",
   "execution_count": 24,
   "metadata": {
    "ExecuteTime": {
     "end_time": "2019-04-12T20:26:22.116898Z",
     "start_time": "2019-04-12T20:26:21.812209Z"
    }
   },
   "outputs": [
    {
     "name": "stderr",
     "output_type": "stream",
     "text": [
      "C:\\Users\\jcasa\\Anaconda3\\lib\\site-packages\\ipykernel_launcher.py:1: SettingWithCopyWarning: \n",
      "A value is trying to be set on a copy of a slice from a DataFrame.\n",
      "Try using .loc[row_indexer,col_indexer] = value instead\n",
      "\n",
      "See the caveats in the documentation: http://pandas.pydata.org/pandas-docs/stable/indexing.html#indexing-view-versus-copy\n",
      "  \"\"\"Entry point for launching an IPython kernel.\n",
      "C:\\Users\\jcasa\\Anaconda3\\lib\\site-packages\\ipykernel_launcher.py:2: SettingWithCopyWarning: \n",
      "A value is trying to be set on a copy of a slice from a DataFrame.\n",
      "Try using .loc[row_indexer,col_indexer] = value instead\n",
      "\n",
      "See the caveats in the documentation: http://pandas.pydata.org/pandas-docs/stable/indexing.html#indexing-view-versus-copy\n",
      "  \n"
     ]
    }
   ],
   "source": [
    "df['LoanOriginationDate'] = pd.to_datetime(df.LoanOriginationDate)\n",
    "df['LoanOriginationYear'] = pd.to_datetime(df.LoanOriginationDate.values).year"
   ]
  },
  {
   "cell_type": "code",
   "execution_count": 25,
   "metadata": {},
   "outputs": [
    {
     "data": {
      "text/html": [
       "<div>\n",
       "<style scoped>\n",
       "    .dataframe tbody tr th:only-of-type {\n",
       "        vertical-align: middle;\n",
       "    }\n",
       "\n",
       "    .dataframe tbody tr th {\n",
       "        vertical-align: top;\n",
       "    }\n",
       "\n",
       "    .dataframe thead th {\n",
       "        text-align: right;\n",
       "    }\n",
       "</style>\n",
       "<table border=\"1\" class=\"dataframe\">\n",
       "  <thead>\n",
       "    <tr style=\"text-align: right;\">\n",
       "      <th></th>\n",
       "      <th>LoanOriginationDate</th>\n",
       "      <th>LoanOriginationYear</th>\n",
       "    </tr>\n",
       "  </thead>\n",
       "  <tbody>\n",
       "    <tr>\n",
       "      <th>0</th>\n",
       "      <td>2007-09-12</td>\n",
       "      <td>2007</td>\n",
       "    </tr>\n",
       "    <tr>\n",
       "      <th>2</th>\n",
       "      <td>2007-01-17</td>\n",
       "      <td>2007</td>\n",
       "    </tr>\n",
       "  </tbody>\n",
       "</table>\n",
       "</div>"
      ],
      "text/plain": [
       "  LoanOriginationDate  LoanOriginationYear\n",
       "0          2007-09-12                 2007\n",
       "2          2007-01-17                 2007"
      ]
     },
     "execution_count": 25,
     "metadata": {},
     "output_type": "execute_result"
    }
   ],
   "source": [
    "df[['LoanOriginationDate','LoanOriginationYear' ]].head(2)"
   ]
  },
  {
   "cell_type": "markdown",
   "metadata": {},
   "source": [
    "## Additional exclusions"
   ]
  },
  {
   "cell_type": "markdown",
   "metadata": {},
   "source": [
    "## TO DO"
   ]
  },
  {
   "cell_type": "markdown",
   "metadata": {},
   "source": [
    "En este TO DO nos vamos a crear un **DataFrame** en donde se expresen cada uno de los años de vida del préstamo, el número total de préstamos, los préstamos malos y el **Bad Rate** que será el cociente entre los préstamos malos y el número total de préstamos para cada año"
   ]
  },
  {
   "cell_type": "code",
   "execution_count": 26,
   "metadata": {
    "ExecuteTime": {
     "end_time": "2019-04-12T20:26:22.318720Z",
     "start_time": "2019-04-12T20:26:22.125984Z"
    }
   },
   "outputs": [],
   "source": [
    "def describe_yearly_BR(df, col_year, col_target):\n",
    "    \"\"\"Describes the yearly number of loans, bad loans and bad rate of the portfolio\n",
    "    \n",
    "    Args:\n",
    "        df: Pandas DataFrame with the input data\n",
    "        col_year: Name of the column that captures the loan origination date\n",
    "        col_target: Name of the target column\n",
    "        \n",
    "    Returns:\n",
    "        Pandas DataFrame with the yearly number of loans, bad \n",
    "        loans and bad rate of the portfolio \n",
    "    \"\"\"\n",
    "    #IMPLEMENT\n",
    "    #df_new = df[[col_year, col_target]]\n",
    "    df_new = pd.DataFrame()\n",
    "    df_new['Year'] = df[col_year]\n",
    "    # Esto es un ID, hay que mirar la longitud\n",
    "    df_new['N_Loans'] = 1 #df.LoanNumber\n",
    "    df_new['B_Loans'] = df[col_target]\n",
    "    # Size con el año\n",
    "    df_new = df_new.groupby('Year').sum()\n",
    "    df_new['bad_rate'] = 100 * (df_new.B_Loans / df_new.N_Loans.round(2))\n",
    "    return df_new\n",
    "    "
   ]
  },
  {
   "cell_type": "markdown",
   "metadata": {},
   "source": [
    "Miramos los volúmenes por años. Se observa durante la crisis el porcentaje de malos, de nuevo, expresados a través del **BAD RATE** incrementó de forma sustancial si los comparamos con el resto de los años. Esto puede ser debido a los grandes volúmenes de apalancamiento que existían antes de la crisis. Una vez la burbuja inmobiliaria explotó, los préstamos promotores fueron los primeros en hacer default y eso produjo que en los primeros años de la crisis el porcentaje de los préstamos impagados aumentara de forma sustancial.\n",
    "\n",
    "No podremos incluir aquellos originados *ANTES* y *DESPUÉS* de la crisis por no comportándose de forma similar y al estar en un contexto socio-econmómico totalmente diferente.\n"
   ]
  },
  {
   "cell_type": "code",
   "execution_count": 33,
   "metadata": {},
   "outputs": [
    {
     "data": {
      "text/html": [
       "<div>\n",
       "<style scoped>\n",
       "    .dataframe tbody tr th:only-of-type {\n",
       "        vertical-align: middle;\n",
       "    }\n",
       "\n",
       "    .dataframe tbody tr th {\n",
       "        vertical-align: top;\n",
       "    }\n",
       "\n",
       "    .dataframe thead th {\n",
       "        text-align: right;\n",
       "    }\n",
       "</style>\n",
       "<table border=\"1\" class=\"dataframe\">\n",
       "  <thead>\n",
       "    <tr style=\"text-align: right;\">\n",
       "      <th></th>\n",
       "      <th>N_Loans</th>\n",
       "      <th>B_Loans</th>\n",
       "      <th>bad_rate</th>\n",
       "    </tr>\n",
       "    <tr>\n",
       "      <th>Year</th>\n",
       "      <th></th>\n",
       "      <th></th>\n",
       "      <th></th>\n",
       "    </tr>\n",
       "  </thead>\n",
       "  <tbody>\n",
       "    <tr>\n",
       "      <th>2005</th>\n",
       "      <td>22</td>\n",
       "      <td>0.0</td>\n",
       "      <td>0.000000</td>\n",
       "    </tr>\n",
       "    <tr>\n",
       "      <th>2006</th>\n",
       "      <td>5822</td>\n",
       "      <td>899.0</td>\n",
       "      <td>15.441429</td>\n",
       "    </tr>\n",
       "    <tr>\n",
       "      <th>2007</th>\n",
       "      <td>11240</td>\n",
       "      <td>1504.0</td>\n",
       "      <td>13.380783</td>\n",
       "    </tr>\n",
       "    <tr>\n",
       "      <th>2008</th>\n",
       "      <td>11411</td>\n",
       "      <td>1170.0</td>\n",
       "      <td>10.253264</td>\n",
       "    </tr>\n",
       "    <tr>\n",
       "      <th>2009</th>\n",
       "      <td>2032</td>\n",
       "      <td>98.0</td>\n",
       "      <td>4.822835</td>\n",
       "    </tr>\n",
       "    <tr>\n",
       "      <th>2010</th>\n",
       "      <td>5579</td>\n",
       "      <td>251.0</td>\n",
       "      <td>4.499014</td>\n",
       "    </tr>\n",
       "    <tr>\n",
       "      <th>2011</th>\n",
       "      <td>11208</td>\n",
       "      <td>819.0</td>\n",
       "      <td>7.307281</td>\n",
       "    </tr>\n",
       "    <tr>\n",
       "      <th>2012</th>\n",
       "      <td>19545</td>\n",
       "      <td>1341.0</td>\n",
       "      <td>6.861090</td>\n",
       "    </tr>\n",
       "    <tr>\n",
       "      <th>2013</th>\n",
       "      <td>3616</td>\n",
       "      <td>127.0</td>\n",
       "      <td>3.512168</td>\n",
       "    </tr>\n",
       "  </tbody>\n",
       "</table>\n",
       "</div>"
      ],
      "text/plain": [
       "      N_Loans  B_Loans   bad_rate\n",
       "Year                             \n",
       "2005       22      0.0   0.000000\n",
       "2006     5822    899.0  15.441429\n",
       "2007    11240   1504.0  13.380783\n",
       "2008    11411   1170.0  10.253264\n",
       "2009     2032     98.0   4.822835\n",
       "2010     5579    251.0   4.499014\n",
       "2011    11208    819.0   7.307281\n",
       "2012    19545   1341.0   6.861090\n",
       "2013     3616    127.0   3.512168"
      ]
     },
     "execution_count": 33,
     "metadata": {},
     "output_type": "execute_result"
    }
   ],
   "source": [
    "describe_yearly_BR(df, 'LoanOriginationYear', 'bad')"
   ]
  },
  {
   "cell_type": "markdown",
   "metadata": {},
   "source": [
    "Es por este motivo por el cual debemos quitar todos aquellos años que no sean representativos, por el motivo antes explicado. "
   ]
  },
  {
   "cell_type": "code",
   "execution_count": 34,
   "metadata": {},
   "outputs": [
    {
     "data": {
      "text/html": [
       "<div>\n",
       "<style scoped>\n",
       "    .dataframe tbody tr th:only-of-type {\n",
       "        vertical-align: middle;\n",
       "    }\n",
       "\n",
       "    .dataframe tbody tr th {\n",
       "        vertical-align: top;\n",
       "    }\n",
       "\n",
       "    .dataframe thead th {\n",
       "        text-align: right;\n",
       "    }\n",
       "</style>\n",
       "<table border=\"1\" class=\"dataframe\">\n",
       "  <thead>\n",
       "    <tr style=\"text-align: right;\">\n",
       "      <th></th>\n",
       "      <th>ListingNumber</th>\n",
       "      <th>Term</th>\n",
       "      <th>BorrowerAPR</th>\n",
       "      <th>BorrowerRate</th>\n",
       "      <th>LenderYield</th>\n",
       "      <th>EstimatedEffectiveYield</th>\n",
       "      <th>EstimatedLoss</th>\n",
       "      <th>EstimatedReturn</th>\n",
       "      <th>ProsperRating (numeric)</th>\n",
       "      <th>ProsperScore</th>\n",
       "      <th>...</th>\n",
       "      <th>LP_NetPrincipalLoss</th>\n",
       "      <th>LP_NonPrincipalRecoverypayments</th>\n",
       "      <th>PercentFunded</th>\n",
       "      <th>Recommendations</th>\n",
       "      <th>InvestmentFromFriendsCount</th>\n",
       "      <th>InvestmentFromFriendsAmount</th>\n",
       "      <th>Investors</th>\n",
       "      <th>LoanMonthsSinceOriginationY</th>\n",
       "      <th>LoanFirstDefaultedCycleNumberQ</th>\n",
       "      <th>LoanOriginationYear</th>\n",
       "    </tr>\n",
       "  </thead>\n",
       "  <tbody>\n",
       "    <tr>\n",
       "      <th>count</th>\n",
       "      <td>41980.000000</td>\n",
       "      <td>41980.000000</td>\n",
       "      <td>41980.000000</td>\n",
       "      <td>41980.000000</td>\n",
       "      <td>41980.000000</td>\n",
       "      <td>41836.000000</td>\n",
       "      <td>41836.000000</td>\n",
       "      <td>41836.000000</td>\n",
       "      <td>41836.000000</td>\n",
       "      <td>41836.000000</td>\n",
       "      <td>...</td>\n",
       "      <td>41980.000000</td>\n",
       "      <td>41980.000000</td>\n",
       "      <td>41980.000000</td>\n",
       "      <td>41980.000000</td>\n",
       "      <td>41980.000000</td>\n",
       "      <td>41980.000000</td>\n",
       "      <td>41980.000000</td>\n",
       "      <td>41980.000000</td>\n",
       "      <td>5951.000000</td>\n",
       "      <td>41980.000000</td>\n",
       "    </tr>\n",
       "    <tr>\n",
       "      <th>mean</th>\n",
       "      <td>564916.890162</td>\n",
       "      <td>40.033921</td>\n",
       "      <td>0.249872</td>\n",
       "      <td>0.218397</td>\n",
       "      <td>0.208387</td>\n",
       "      <td>0.184871</td>\n",
       "      <td>0.091322</td>\n",
       "      <td>0.108964</td>\n",
       "      <td>3.730591</td>\n",
       "      <td>6.260804</td>\n",
       "      <td>...</td>\n",
       "      <td>704.881751</td>\n",
       "      <td>13.531535</td>\n",
       "      <td>0.996286</td>\n",
       "      <td>0.029657</td>\n",
       "      <td>0.015484</td>\n",
       "      <td>8.744939</td>\n",
       "      <td>94.894807</td>\n",
       "      <td>2.288328</td>\n",
       "      <td>14.958158</td>\n",
       "      <td>2011.408147</td>\n",
       "    </tr>\n",
       "    <tr>\n",
       "      <th>std</th>\n",
       "      <td>80767.260814</td>\n",
       "      <td>11.128676</td>\n",
       "      <td>0.087289</td>\n",
       "      <td>0.081245</td>\n",
       "      <td>0.081247</td>\n",
       "      <td>0.078211</td>\n",
       "      <td>0.052998</td>\n",
       "      <td>0.034641</td>\n",
       "      <td>1.812513</td>\n",
       "      <td>2.260671</td>\n",
       "      <td>...</td>\n",
       "      <td>2283.359704</td>\n",
       "      <td>151.194825</td>\n",
       "      <td>0.028861</td>\n",
       "      <td>0.235799</td>\n",
       "      <td>0.149953</td>\n",
       "      <td>168.123004</td>\n",
       "      <td>96.517838</td>\n",
       "      <td>0.949925</td>\n",
       "      <td>7.231358</td>\n",
       "      <td>0.984924</td>\n",
       "    </tr>\n",
       "    <tr>\n",
       "      <th>min</th>\n",
       "      <td>149172.000000</td>\n",
       "      <td>12.000000</td>\n",
       "      <td>0.045830</td>\n",
       "      <td>0.040000</td>\n",
       "      <td>0.030000</td>\n",
       "      <td>-0.182700</td>\n",
       "      <td>0.004900</td>\n",
       "      <td>-0.182700</td>\n",
       "      <td>1.000000</td>\n",
       "      <td>1.000000</td>\n",
       "      <td>...</td>\n",
       "      <td>-504.410000</td>\n",
       "      <td>0.000000</td>\n",
       "      <td>0.700000</td>\n",
       "      <td>0.000000</td>\n",
       "      <td>0.000000</td>\n",
       "      <td>0.000000</td>\n",
       "      <td>1.000000</td>\n",
       "      <td>1.000000</td>\n",
       "      <td>4.000000</td>\n",
       "      <td>2009.000000</td>\n",
       "    </tr>\n",
       "    <tr>\n",
       "      <th>25%</th>\n",
       "      <td>504230.250000</td>\n",
       "      <td>36.000000</td>\n",
       "      <td>0.177540</td>\n",
       "      <td>0.148500</td>\n",
       "      <td>0.138500</td>\n",
       "      <td>0.125800</td>\n",
       "      <td>0.050000</td>\n",
       "      <td>0.086200</td>\n",
       "      <td>2.000000</td>\n",
       "      <td>5.000000</td>\n",
       "      <td>...</td>\n",
       "      <td>0.000000</td>\n",
       "      <td>0.000000</td>\n",
       "      <td>1.000000</td>\n",
       "      <td>0.000000</td>\n",
       "      <td>0.000000</td>\n",
       "      <td>0.000000</td>\n",
       "      <td>30.000000</td>\n",
       "      <td>2.000000</td>\n",
       "      <td>8.000000</td>\n",
       "      <td>2011.000000</td>\n",
       "    </tr>\n",
       "    <tr>\n",
       "      <th>50%</th>\n",
       "      <td>556901.500000</td>\n",
       "      <td>36.000000</td>\n",
       "      <td>0.258610</td>\n",
       "      <td>0.225900</td>\n",
       "      <td>0.215900</td>\n",
       "      <td>0.185500</td>\n",
       "      <td>0.089000</td>\n",
       "      <td>0.114500</td>\n",
       "      <td>4.000000</td>\n",
       "      <td>6.000000</td>\n",
       "      <td>...</td>\n",
       "      <td>0.000000</td>\n",
       "      <td>0.000000</td>\n",
       "      <td>1.000000</td>\n",
       "      <td>0.000000</td>\n",
       "      <td>0.000000</td>\n",
       "      <td>0.000000</td>\n",
       "      <td>64.000000</td>\n",
       "      <td>2.000000</td>\n",
       "      <td>12.000000</td>\n",
       "      <td>2012.000000</td>\n",
       "    </tr>\n",
       "    <tr>\n",
       "      <th>75%</th>\n",
       "      <td>624131.250000</td>\n",
       "      <td>36.000000</td>\n",
       "      <td>0.330970</td>\n",
       "      <td>0.295000</td>\n",
       "      <td>0.285000</td>\n",
       "      <td>0.253400</td>\n",
       "      <td>0.137500</td>\n",
       "      <td>0.134000</td>\n",
       "      <td>5.000000</td>\n",
       "      <td>8.000000</td>\n",
       "      <td>...</td>\n",
       "      <td>0.000000</td>\n",
       "      <td>0.000000</td>\n",
       "      <td>1.000000</td>\n",
       "      <td>0.000000</td>\n",
       "      <td>0.000000</td>\n",
       "      <td>0.000000</td>\n",
       "      <td>129.000000</td>\n",
       "      <td>3.000000</td>\n",
       "      <td>20.000000</td>\n",
       "      <td>2012.000000</td>\n",
       "    </tr>\n",
       "    <tr>\n",
       "      <th>max</th>\n",
       "      <td>738960.000000</td>\n",
       "      <td>60.000000</td>\n",
       "      <td>0.423950</td>\n",
       "      <td>0.360000</td>\n",
       "      <td>0.340000</td>\n",
       "      <td>0.319900</td>\n",
       "      <td>0.366000</td>\n",
       "      <td>0.283700</td>\n",
       "      <td>7.000000</td>\n",
       "      <td>10.000000</td>\n",
       "      <td>...</td>\n",
       "      <td>25000.000000</td>\n",
       "      <td>6296.960000</td>\n",
       "      <td>1.012500</td>\n",
       "      <td>18.000000</td>\n",
       "      <td>9.000000</td>\n",
       "      <td>11000.000000</td>\n",
       "      <td>1189.000000</td>\n",
       "      <td>5.000000</td>\n",
       "      <td>40.000000</td>\n",
       "      <td>2013.000000</td>\n",
       "    </tr>\n",
       "  </tbody>\n",
       "</table>\n",
       "<p>8 rows × 64 columns</p>\n",
       "</div>"
      ],
      "text/plain": [
       "       ListingNumber          Term   BorrowerAPR  BorrowerRate   LenderYield  \\\n",
       "count   41980.000000  41980.000000  41980.000000  41980.000000  41980.000000   \n",
       "mean   564916.890162     40.033921      0.249872      0.218397      0.208387   \n",
       "std     80767.260814     11.128676      0.087289      0.081245      0.081247   \n",
       "min    149172.000000     12.000000      0.045830      0.040000      0.030000   \n",
       "25%    504230.250000     36.000000      0.177540      0.148500      0.138500   \n",
       "50%    556901.500000     36.000000      0.258610      0.225900      0.215900   \n",
       "75%    624131.250000     36.000000      0.330970      0.295000      0.285000   \n",
       "max    738960.000000     60.000000      0.423950      0.360000      0.340000   \n",
       "\n",
       "       EstimatedEffectiveYield  EstimatedLoss  EstimatedReturn  \\\n",
       "count             41836.000000   41836.000000     41836.000000   \n",
       "mean                  0.184871       0.091322         0.108964   \n",
       "std                   0.078211       0.052998         0.034641   \n",
       "min                  -0.182700       0.004900        -0.182700   \n",
       "25%                   0.125800       0.050000         0.086200   \n",
       "50%                   0.185500       0.089000         0.114500   \n",
       "75%                   0.253400       0.137500         0.134000   \n",
       "max                   0.319900       0.366000         0.283700   \n",
       "\n",
       "       ProsperRating (numeric)  ProsperScore  ...  LP_NetPrincipalLoss  \\\n",
       "count             41836.000000  41836.000000  ...         41980.000000   \n",
       "mean                  3.730591      6.260804  ...           704.881751   \n",
       "std                   1.812513      2.260671  ...          2283.359704   \n",
       "min                   1.000000      1.000000  ...          -504.410000   \n",
       "25%                   2.000000      5.000000  ...             0.000000   \n",
       "50%                   4.000000      6.000000  ...             0.000000   \n",
       "75%                   5.000000      8.000000  ...             0.000000   \n",
       "max                   7.000000     10.000000  ...         25000.000000   \n",
       "\n",
       "       LP_NonPrincipalRecoverypayments  PercentFunded  Recommendations  \\\n",
       "count                     41980.000000   41980.000000     41980.000000   \n",
       "mean                         13.531535       0.996286         0.029657   \n",
       "std                         151.194825       0.028861         0.235799   \n",
       "min                           0.000000       0.700000         0.000000   \n",
       "25%                           0.000000       1.000000         0.000000   \n",
       "50%                           0.000000       1.000000         0.000000   \n",
       "75%                           0.000000       1.000000         0.000000   \n",
       "max                        6296.960000       1.012500        18.000000   \n",
       "\n",
       "       InvestmentFromFriendsCount  InvestmentFromFriendsAmount     Investors  \\\n",
       "count                41980.000000                 41980.000000  41980.000000   \n",
       "mean                     0.015484                     8.744939     94.894807   \n",
       "std                      0.149953                   168.123004     96.517838   \n",
       "min                      0.000000                     0.000000      1.000000   \n",
       "25%                      0.000000                     0.000000     30.000000   \n",
       "50%                      0.000000                     0.000000     64.000000   \n",
       "75%                      0.000000                     0.000000    129.000000   \n",
       "max                      9.000000                 11000.000000   1189.000000   \n",
       "\n",
       "       LoanMonthsSinceOriginationY  LoanFirstDefaultedCycleNumberQ  \\\n",
       "count                 41980.000000                     5951.000000   \n",
       "mean                      2.288328                       14.958158   \n",
       "std                       0.949925                        7.231358   \n",
       "min                       1.000000                        4.000000   \n",
       "25%                       2.000000                        8.000000   \n",
       "50%                       2.000000                       12.000000   \n",
       "75%                       3.000000                       20.000000   \n",
       "max                       5.000000                       40.000000   \n",
       "\n",
       "       LoanOriginationYear  \n",
       "count         41980.000000  \n",
       "mean           2011.408147  \n",
       "std               0.984924  \n",
       "min            2009.000000  \n",
       "25%            2011.000000  \n",
       "50%            2012.000000  \n",
       "75%            2012.000000  \n",
       "max            2013.000000  \n",
       "\n",
       "[8 rows x 64 columns]"
      ]
     },
     "execution_count": 34,
     "metadata": {},
     "output_type": "execute_result"
    }
   ],
   "source": [
    "col_year= df[df['LoanOriginationYear'] >2008]\n",
    "col_year.describe()"
   ]
  },
  {
   "cell_type": "code",
   "execution_count": 35,
   "metadata": {},
   "outputs": [
    {
     "data": {
      "text/html": [
       "<div>\n",
       "<style scoped>\n",
       "    .dataframe tbody tr th:only-of-type {\n",
       "        vertical-align: middle;\n",
       "    }\n",
       "\n",
       "    .dataframe tbody tr th {\n",
       "        vertical-align: top;\n",
       "    }\n",
       "\n",
       "    .dataframe thead th {\n",
       "        text-align: right;\n",
       "    }\n",
       "</style>\n",
       "<table border=\"1\" class=\"dataframe\">\n",
       "  <thead>\n",
       "    <tr style=\"text-align: right;\">\n",
       "      <th></th>\n",
       "      <th>N_Loans</th>\n",
       "      <th>B_Loans</th>\n",
       "      <th>bad_rate</th>\n",
       "    </tr>\n",
       "    <tr>\n",
       "      <th>Year</th>\n",
       "      <th></th>\n",
       "      <th></th>\n",
       "      <th></th>\n",
       "    </tr>\n",
       "  </thead>\n",
       "  <tbody>\n",
       "    <tr>\n",
       "      <th>2009</th>\n",
       "      <td>2032</td>\n",
       "      <td>98.0</td>\n",
       "      <td>4.822835</td>\n",
       "    </tr>\n",
       "    <tr>\n",
       "      <th>2010</th>\n",
       "      <td>5579</td>\n",
       "      <td>251.0</td>\n",
       "      <td>4.499014</td>\n",
       "    </tr>\n",
       "    <tr>\n",
       "      <th>2011</th>\n",
       "      <td>11208</td>\n",
       "      <td>819.0</td>\n",
       "      <td>7.307281</td>\n",
       "    </tr>\n",
       "    <tr>\n",
       "      <th>2012</th>\n",
       "      <td>19545</td>\n",
       "      <td>1341.0</td>\n",
       "      <td>6.861090</td>\n",
       "    </tr>\n",
       "    <tr>\n",
       "      <th>2013</th>\n",
       "      <td>3616</td>\n",
       "      <td>127.0</td>\n",
       "      <td>3.512168</td>\n",
       "    </tr>\n",
       "  </tbody>\n",
       "</table>\n",
       "</div>"
      ],
      "text/plain": [
       "      N_Loans  B_Loans  bad_rate\n",
       "Year                            \n",
       "2009     2032     98.0  4.822835\n",
       "2010     5579    251.0  4.499014\n",
       "2011    11208    819.0  7.307281\n",
       "2012    19545   1341.0  6.861090\n",
       "2013     3616    127.0  3.512168"
      ]
     },
     "execution_count": 35,
     "metadata": {},
     "output_type": "execute_result"
    }
   ],
   "source": [
    "describe_yearly_BR(col_year, 'LoanOriginationYear', 'bad')"
   ]
  },
  {
   "cell_type": "markdown",
   "metadata": {},
   "source": [
    "Los resultados a los que llegamos son los siguientes:\n",
    "- Performance Window: es mayor o igual a 12 meses (1 año)\n",
    "\n",
    "\n",
    " **Sample Window** será 2009, 2010,2011 y 2012.\n",
    "\n",
    "\n",
    "- IT se incluirá tanto nuestra muestra de entrenamiento, como la validación así como el test. Cogeremos los datos que se remontan hasta la primera mitad de 2012 incluido, es decir, el intervalo sería de 2009 hasta el primer semestre de 2012\n",
    "\n",
    "\n",
    "\n",
    "- OOT será la segunda mitad de 2012 y 2013"
   ]
  },
  {
   "cell_type": "markdown",
   "metadata": {},
   "source": [
    "### Final output sampling:\n",
    "\n",
    "   \n",
    "\n",
    " - IT (In Time):\n",
    "     - Train\n",
    "     - Validation \n",
    "     - Reject Inference sample\n",
    " - OOT (Out of time)\n"
   ]
  },
  {
   "cell_type": "code",
   "execution_count": 36,
   "metadata": {
    "ExecuteTime": {
     "end_time": "2019-04-12T20:26:22.567872Z",
     "start_time": "2019-04-12T20:26:22.471404Z"
    }
   },
   "outputs": [],
   "source": [
    "import datetime as dt\n",
    "\n",
    "filtro1 = df.LoanOriginationYear >= 2009\n",
    "filtro2 = df.LoanOriginationDate < dt.datetime(2012, 6, 30)\n",
    "df_it = df[(filtro1 & filtro2)]\n",
    "# TODO: filter data as needed\n",
    "# Split randomly in train, validation and RI\n",
    "# - 60% Train, 20% val, 20% RI\n",
    "df_train = df_it.sample(frac=0.6, random_state=42)\n",
    "df_val_ri = df_it.loc[~df_it.index.isin(df_train.index)]\n",
    "df_val = df_val_ri.sample(frac=0.5, random_state=42)\n",
    "df_ri = df_val_ri.loc[~df_val_ri.index.isin(df_val.index)]"
   ]
  },
  {
   "cell_type": "code",
   "execution_count": 37,
   "metadata": {
    "ExecuteTime": {
     "end_time": "2019-04-12T20:26:22.598169Z",
     "start_time": "2019-04-12T20:26:22.577330Z"
    }
   },
   "outputs": [
    {
     "data": {
      "text/plain": [
       "(28311, 16987, 5662, 5662)"
      ]
     },
     "execution_count": 37,
     "metadata": {},
     "output_type": "execute_result"
    }
   ],
   "source": [
    "len(df_it), len(df_train), len(df_val), len(df_ri)"
   ]
  },
  {
   "cell_type": "markdown",
   "metadata": {},
   "source": [
    "Con todos estos datos podemos crearnos diferentes ficheros que contentan lo siguiente:\n",
    "- En primer lugar, nuestra muestra de entrenamiento\n",
    "- En segundo lugar, nuestras validaciones del modelo\n",
    "- En tercer lugar, nuestra reject inference\n",
    "- En último lugar nuestra out of time"
   ]
  },
  {
   "cell_type": "code",
   "execution_count": 38,
   "metadata": {
    "ExecuteTime": {
     "end_time": "2019-04-12T20:26:24.972769Z",
     "start_time": "2019-04-12T20:26:22.660105Z"
    }
   },
   "outputs": [],
   "source": [
    "filt = df.LoanOriginationDate >= dt.datetime(2012, 6, 30)\n",
    "df_oot = df[filt]\n",
    "\n",
    "df_train.to_csv('prosperLoanData_train.csv', index=False)\n",
    "df_val.to_csv('prosperLoanData_val.csv', index=False)\n",
    "df_ri.to_csv('prosperLoanData_ri.csv', index=False)\n",
    "df_oot.to_csv('prosperLoanData_oot.csv', index=False)"
   ]
  },
  {
   "cell_type": "code",
   "execution_count": 39,
   "metadata": {},
   "outputs": [
    {
     "data": {
      "text/plain": [
       "(13669, 89)"
      ]
     },
     "execution_count": 39,
     "metadata": {},
     "output_type": "execute_result"
    }
   ],
   "source": [
    "df_oot.shape"
   ]
  },
  {
   "cell_type": "markdown",
   "metadata": {},
   "source": [
    "Para saber qué variables están correlacionadas entre sí realizaremos una matriz de correlación. En la siguiente práctica expondremos en detalle qué variables serán incluidas en nuestras **FEATURES**"
   ]
  },
  {
   "cell_type": "code",
   "execution_count": 40,
   "metadata": {},
   "outputs": [
    {
     "data": {
      "text/plain": [
       "<matplotlib.axes._subplots.AxesSubplot at 0x214012db240>"
      ]
     },
     "execution_count": 40,
     "metadata": {},
     "output_type": "execute_result"
    },
    {
     "data": {
      "image/png": "[encoded data removed]",
      "text/plain": [
       "<Figure size 1440x1440 with 2 Axes>"
      ]
     },
     "metadata": {
      "needs_background": "light"
     },
     "output_type": "display_data"
    }
   ],
   "source": [
    "matriz_corr = df_it.corr()\n",
    "plt.figure(figsize=(20, 20))\n",
    "sns.heatmap(round(matriz_corr, 2), cmap = sns.light_palette(\"darkblue\", as_cmap=True))"
   ]
  },
  {
   "cell_type": "code",
   "execution_count": null,
   "metadata": {},
   "outputs": [],
   "source": []
  }
 ],
 "metadata": {
  "kernelspec": {
   "display_name": "Python 3",
   "language": "python",
   "name": "python3"
  },
  "language_info": {
   "codemirror_mode": {
    "name": "ipython",
    "version": 3
   },
   "file_extension": ".py",
   "mimetype": "text/x-python",
   "name": "python",
   "nbconvert_exporter": "python",
   "pygments_lexer": "ipython3",
   "version": "3.7.0"
  },
  "toc": {
   "base_numbering": 1,
   "nav_menu": {},
   "number_sections": true,
   "sideBar": true,
   "skip_h1_title": false,
   "title_cell": "Table of Contents",
   "title_sidebar": "Contents",
   "toc_cell": false,
   "toc_position": {
    "height": "calc(100% - 180px)",
    "left": "10px",
    "top": "150px",
    "width": "307.2px"
   },
   "toc_section_display": true,
   "toc_window_display": true
  }
 },
 "nbformat": 4,
 "nbformat_minor": 2
}
