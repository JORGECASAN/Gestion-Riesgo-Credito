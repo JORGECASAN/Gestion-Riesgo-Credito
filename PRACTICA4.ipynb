{
 "cells": [
  {
   "cell_type": "markdown",
   "metadata": {},
   "source": [
    "# FEATURE ENGINEERING"
   ]
  },
  {
   "cell_type": "markdown",
   "metadata": {},
   "source": [
    "Este punto debe cubrir un ejercicio de feature engineering; creación de nuevas variables a partir de las variables seleccionadas como válidas en la práctica 2. \n"
   ]
  },
  {
   "cell_type": "markdown",
   "metadata": {},
   "source": [
    "Las variables añadidas, deben ser evaluadas con el mismo proceso que el resto de variables, es decir, IV, PSI, y correlación. Si pasa estos filtros, se debe evaluar si la feature diseñada mejora el rendimiento del modelo o no.\n"
   ]
  },
  {
   "cell_type": "markdown",
   "metadata": {},
   "source": [
    "\n",
    "- Tasas de variables en diferentes momentos temporales, por ejemplo: PublicRecordsLast10Yeards / 12 Months\n",
    "- Transformaciones matemáticas a las features: Log, exp, transformaciones no monótonas, …\n",
    "- Transformaciones con sentido de ‘negocio’ \n",
    "- Propuesta de interaction terms\n"
   ]
  },
  {
   "cell_type": "code",
   "execution_count": 9,
   "metadata": {},
   "outputs": [],
   "source": [
    "import pandas as pd\n",
    "import numpy as np\n",
    "import matplotlib.pyplot as plt\n",
    "import seaborn as sns\n",
    "%matplotlib inline"
   ]
  },
  {
   "cell_type": "markdown",
   "metadata": {},
   "source": [
    "## LECTURA DE DATOS"
   ]
  },
  {
   "cell_type": "code",
   "execution_count": 10,
   "metadata": {},
   "outputs": [
    {
     "name": "stderr",
     "output_type": "stream",
     "text": [
      "C:\\Users\\jcasa\\Anaconda3\\lib\\site-packages\\IPython\\core\\interactiveshell.py:2785: DtypeWarning: Columns (3) have mixed types. Specify dtype option on import or set low_memory=False.\n",
      "  interactivity=interactivity, compiler=compiler, result=result)\n"
     ]
    }
   ],
   "source": [
    "df = pd.read_csv('prosperLoanData_train.csv')\n",
    "df_oot = pd.read_csv('prosperLoanData_oot.csv')"
   ]
  },
  {
   "cell_type": "code",
   "execution_count": 11,
   "metadata": {},
   "outputs": [],
   "source": [
    "drop = [\"LoanStatus\",\"ClosedDate\",\"BorrowerAPR\",\"ListingKey\",\"ListingNumber\",\"ListingCreationDate\",\"Term\",\n",
    "             \"CreditGrade\",\"BorrowerRate\",\"LenderYield\",\"EstimatedEffectiveYield\",\"EstimatedLoss\",\n",
    "             \"EstimatedReturn\",\"BorrowerState\",\"CurrentlyInGroup\",\n",
    "             \"GroupKey\",\"DateCreditPulled\",\"PublicRecordsLast10Years\",\n",
    "             \"PublicRecordsLast12Months\",\"RevolvingCreditBalance\",\"BankcardUtilization\",\"AvailableBankcardCredit\",\n",
    "             \"TradesOpenedLast6Months\",\"DebtToIncomeRatio\",\"IncomeVerifiable\",\"LoanKey\",'TotalProsperLoans',\n",
    "             'TotalProsperPaymentsBilled','OnTimeProsperPayments','ProsperPaymentsLessThanOneMonthLate','ProsperPaymentsOneMonthPlusLate',\n",
    "             'ProsperPrincipalBorrowed','ProsperPrincipalOutstanding','LoanCurrentDaysDelinquent','LoanFirstDefaultedCycleNumber','LoanMonthsSinceOrigination',\n",
    "             'LoanNumber',\"LP_CustomerPrincipalPayments\",'LoanOriginationDate','LoanOriginationQuarter',\n",
    "             'LP_CustomerPrincipalPayments','LP_CustomerPayments','MonthlyLoanPayment','MemberKey',\n",
    "             \"LP_InterestandFees\",\"LP_ServiceFees\",\"LP_CollectionFees\",\"LP_GrossPrincipalLoss\",\n",
    "             \"LP_NetPrincipalLoss\",\"LP_NonPrincipalRecoverypayments\",\"Recommendations\", \"InvestmentFromFriendsCount\",\"Investors\",\n",
    "             \"InvestmentFromFriendsAmount\", \"bad_aux\", \"PW\", \"bad_rate\", \"bad\", 'fraud', 'indeterm', 'LoanOriginationYear', 'LoanMonthsSinceOriginationY',\n",
    "            'ProsperRating (numeric)', \n",
    "            'ProsperRating (Alpha)', 'ProsperScore', 'FirstRecordedCreditLine']"
   ]
  },
  {
   "cell_type": "code",
   "execution_count": 12,
   "metadata": {},
   "outputs": [],
   "source": [
    "features = [c for c in df.columns if c not in drop]\n",
    "col_target = 'bad'"
   ]
  },
  {
   "cell_type": "code",
   "execution_count": 13,
   "metadata": {},
   "outputs": [
    {
     "data": {
      "text/plain": [
       "24"
      ]
     },
     "execution_count": 13,
     "metadata": {},
     "output_type": "execute_result"
    }
   ],
   "source": [
    "len(features)"
   ]
  },
  {
   "cell_type": "markdown",
   "metadata": {},
   "source": [
    "Para **ListingCategory (numeric)**, tenemos lo siguiente:\n",
    "- 0 - Not Available\n",
    "- 1 - Debt Consolidation\n",
    "- 2 - Home Improvement\n",
    "- 3 - Business\n",
    "- 4 - Personal Loan\n",
    "- 5 - Student Use\n",
    "- 6 - Auto\n",
    "- 7- Other\n",
    "- 8 - Baby&Adoption\n",
    "- 9 - Boat\n",
    "- 10 - Cosmetic Procedure\n",
    "- 11 - Engagement Ring\n",
    "- 12 - Green Loans\n",
    "- 13 - Household Expenses\n",
    "- 14 - Large Purchases\n",
    "- 15 - Medical/Dental\n",
    "- 16 - Motorcycle\n",
    "- 17 - RV\n",
    "- 18 - Taxes\n",
    "- 19 - Vacation\n",
    "- 20 - Wedding Loans\n"
   ]
  },
  {
   "cell_type": "code",
   "execution_count": 14,
   "metadata": {},
   "outputs": [
    {
     "data": {
      "text/plain": [
       "array([ 34.,   1.,  22.,  52., 122.,   7., 131., 378.,  68., 132.,  38.,\n",
       "        82.,  50.,  71., 180.,  78., 306., 329., 254.,  24.,  14., 234.,\n",
       "        44., 143.,   9.,  54., 183., 128.,  12.,  97., 209.,  55., 231.,\n",
       "        43.,  95.,  25., 225.,  30.,  35.,  36.,  29., 123., 315., 392.,\n",
       "        23.,  73.,  51.,  47.,  26.,   0., 153.,   8., 257., 101., 179.,\n",
       "        67.,  61.,  70.,  53., 446.,  87., 111.,  41.,  65., 133.,  31.,\n",
       "         5.,  28., 124.,  39., 121.,   4., 223.,  89.,  93.,   6.,  60.,\n",
       "       103.,  58.,   3., 110.,  11.,  16., 140.,   2.,  33.,  46., 102.,\n",
       "       251., 324., 114., 135., 160., 268.,  56.,  84.,  72., 248., 137.,\n",
       "       235., 290.,  15., 238., 129.,  77.,  94.,  37., 340., 156., 289.,\n",
       "        69., 167., 115.,  49.,  74.,  10., 280.,  91., 144.,  80.,  62.,\n",
       "       100.,  79., 359., 171., 164.,  64., 283., 303., 163., 309.,  17.,\n",
       "        57.,  40., 189.,  92.,  32., 202.,  59., 188.,  21., 380., 495.,\n",
       "       341.,  85., 117., 148., 125.,  86., 382., 187., 154., 106., 130.,\n",
       "        98., 295.,  42., 358.,  81., 310., 185.,  19., 112.,  88., 230.,\n",
       "       377.,  20., 206.,  96.,  76., 459., 146.,  66., 207., 443.,  45.,\n",
       "       265., 275., 161., 149., 113., 195., 118., 116., 390.,  48., 165.,\n",
       "       142., 105.,  18., 292., 109., 342., 157., 335., 193.,  99., 168.,\n",
       "       250., 287.,  nan,  83., 147., 136.,  63., 141., 205., 145., 255.,\n",
       "       305., 284., 404., 299., 271., 127., 196., 203., 369., 253., 394.,\n",
       "       319.,  27., 162., 245., 345., 258., 119., 237., 158., 367.,  13.,\n",
       "       371., 330., 273., 212., 181., 226., 138.,  90., 155., 233.,  75.,\n",
       "       222., 107., 240., 186., 108., 152., 217., 300., 214., 243., 438.,\n",
       "       169., 134., 151., 200., 173., 343., 270., 298., 316., 176., 216.,\n",
       "       227., 120., 297., 444., 139., 314., 220., 351., 213., 194., 318.,\n",
       "       467., 204., 104., 288., 244., 259., 221., 192., 338., 170., 201.,\n",
       "       232., 354., 336., 431., 219., 264., 241., 175., 224., 410., 191.,\n",
       "       455., 126., 425., 198., 416., 337., 524., 307., 256., 373., 365.,\n",
       "       311., 166., 184., 190., 405., 583., 277., 172., 384., 387., 197.,\n",
       "       242., 215., 174., 285., 267., 469., 246., 276., 296., 485., 286.,\n",
       "       312., 291., 293., 249., 229., 261., 228., 177., 159., 178., 474.,\n",
       "       355., 182., 389., 320., 304., 397., 381., 395., 266., 272., 236.,\n",
       "       413., 262., 294., 391., 274., 150., 211., 278., 362., 529., 210.,\n",
       "       326., 360., 361., 239., 323., 471., 263., 399., 339., 454., 370.,\n",
       "       400., 252., 269., 325., 366., 281., 401., 218., 328., 396., 208.,\n",
       "       428., 433., 282., 429., 398., 402., 313., 556., 356., 352., 388.,\n",
       "       308., 364., 333., 523., 385., 375., 506., 247., 374., 260., 347.,\n",
       "       451., 430., 332., 353., 411., 334., 447., 331., 327., 406., 368.,\n",
       "       301., 488., 412., 499., 357., 458., 745., 346., 279., 427., 487.,\n",
       "       484., 344., 321., 348., 490., 199., 517., 363., 349., 515., 417.,\n",
       "       509., 415., 476., 322., 457., 510., 441., 678., 379., 610., 422.,\n",
       "       420., 538., 423., 414., 393., 461., 372., 386., 462., 501., 350.,\n",
       "       383., 317., 403., 434., 504., 532., 436., 755., 512., 440., 497.,\n",
       "       653., 302., 419., 449., 445., 472., 466., 559., 376., 578., 483.,\n",
       "       456., 448., 492., 552., 421., 418., 505.])"
      ]
     },
     "execution_count": 14,
     "metadata": {},
     "output_type": "execute_result"
    }
   ],
   "source": [
    "df[features[3]].unique()"
   ]
  },
  {
   "cell_type": "code",
   "execution_count": 15,
   "metadata": {},
   "outputs": [
    {
     "data": {
      "text/plain": [
       "755.0"
      ]
     },
     "execution_count": 15,
     "metadata": {},
     "output_type": "execute_result"
    }
   ],
   "source": [
    "df[features[3]].max()"
   ]
  },
  {
   "cell_type": "markdown",
   "metadata": {},
   "source": [
    "## CREACIÓN DE VARIABLES"
   ]
  },
  {
   "cell_type": "code",
   "execution_count": 16,
   "metadata": {},
   "outputs": [],
   "source": [
    "def emp_stat_dur(x):\n",
    "    if (x >=0. and x <= 120):\n",
    "        return 0\n",
    "    elif ( x >120 and x <= 240):\n",
    "        return 1\n",
    "    elif ( x >240 and x <=360):\n",
    "        return 2\n",
    "    elif (x> 360 and x <= 420):\n",
    "        return 3\n",
    "    elif(x>420 and x <= 520):\n",
    "        return 4\n",
    "    else:\n",
    "        return 5"
   ]
  },
  {
   "cell_type": "code",
   "execution_count": 17,
   "metadata": {},
   "outputs": [
    {
     "data": {
      "text/plain": [
       "0    0\n",
       "1    0\n",
       "2    0\n",
       "3    0\n",
       "4    1\n",
       "Name: EmploymentStatusDuration, dtype: int64"
      ]
     },
     "execution_count": 17,
     "metadata": {},
     "output_type": "execute_result"
    }
   ],
   "source": [
    "new_stat_dur= df[features[3]].apply(emp_stat_dur)\n",
    "new_stat_dur.head()"
   ]
  },
  {
   "cell_type": "code",
   "execution_count": 18,
   "metadata": {},
   "outputs": [
    {
     "data": {
      "text/plain": [
       "['CreditScoreRangeUpper',\n",
       " 'CurrentCreditLines',\n",
       " 'OpenCreditLines',\n",
       " 'TotalCreditLinespast7years',\n",
       " 'OpenRevolvingAccounts',\n",
       " 'OpenRevolvingMonthlyPayment',\n",
       " 'InquiriesLast6Months',\n",
       " 'TotalInquiries',\n",
       " 'CurrentDelinquencies']"
      ]
     },
     "execution_count": 18,
     "metadata": {},
     "output_type": "execute_result"
    }
   ],
   "source": [
    "features[6:15]"
   ]
  },
  {
   "cell_type": "markdown",
   "metadata": {},
   "source": [
    "## importante"
   ]
  },
  {
   "cell_type": "code",
   "execution_count": 19,
   "metadata": {},
   "outputs": [
    {
     "data": {
      "text/plain": [
       "40.0"
      ]
     },
     "execution_count": 19,
     "metadata": {},
     "output_type": "execute_result"
    }
   ],
   "source": [
    "df['CurrentCreditLines'].max()"
   ]
  },
  {
   "cell_type": "code",
   "execution_count": 20,
   "metadata": {},
   "outputs": [],
   "source": [
    "def current_lines(x):\n",
    "    if (x >=0. and x <= 10):\n",
    "        return 0\n",
    "    elif ( x >10 and x <= 20):\n",
    "        return 1\n",
    "    elif ( x >20 and x <=30):\n",
    "        return 2\n",
    "    elif (x> 30 and x <= 40):\n",
    "        return 3"
   ]
  },
  {
   "cell_type": "code",
   "execution_count": 21,
   "metadata": {},
   "outputs": [
    {
     "data": {
      "text/plain": [
       "array([0, 1, 2, 3], dtype=int64)"
      ]
     },
     "execution_count": 21,
     "metadata": {},
     "output_type": "execute_result"
    }
   ],
   "source": [
    "new_current_lines= df['CurrentCreditLines'].apply(current_lines)\n",
    "new_current_lines.unique()"
   ]
  },
  {
   "cell_type": "code",
   "execution_count": 22,
   "metadata": {},
   "outputs": [
    {
     "data": {
      "text/plain": [
       "34.0"
      ]
     },
     "execution_count": 22,
     "metadata": {},
     "output_type": "execute_result"
    }
   ],
   "source": [
    "df['OpenCreditLines'].max()"
   ]
  },
  {
   "cell_type": "code",
   "execution_count": 23,
   "metadata": {},
   "outputs": [],
   "source": [
    "def open_lines(x):\n",
    "    if (x >=0. and x <= 10):\n",
    "        return 0\n",
    "    elif ( x >10 and x <= 20):\n",
    "        return 1\n",
    "    elif ( x >20 and x <=30):\n",
    "        return 2\n",
    "    elif (x> 30 and x <= 40):\n",
    "        return 3"
   ]
  },
  {
   "cell_type": "code",
   "execution_count": 24,
   "metadata": {},
   "outputs": [
    {
     "data": {
      "text/plain": [
       "array([0, 1, 2, 3], dtype=int64)"
      ]
     },
     "execution_count": 24,
     "metadata": {},
     "output_type": "execute_result"
    }
   ],
   "source": [
    "new_open_lines= df['OpenCreditLines'].apply(open_lines)\n",
    "new_open_lines.unique()"
   ]
  },
  {
   "cell_type": "code",
   "execution_count": 25,
   "metadata": {},
   "outputs": [],
   "source": [
    "def total_credit_7years(x):\n",
    "    if (x >=0. and x <= 20):\n",
    "        return 0\n",
    "    elif ( x >20 and x <= 40):\n",
    "        return 1\n",
    "    elif ( x >40 and x <=60):\n",
    "        return 2\n",
    "    elif (x> 60 and x <= 80):\n",
    "        return 3\n",
    "    elif (x > 80 and x<= 100):\n",
    "        return 4\n",
    "    else:\n",
    "        return 5"
   ]
  },
  {
   "cell_type": "code",
   "execution_count": 26,
   "metadata": {},
   "outputs": [
    {
     "data": {
      "text/plain": [
       "array([1, 0, 2, 3, 4, 5], dtype=int64)"
      ]
     },
     "execution_count": 26,
     "metadata": {},
     "output_type": "execute_result"
    }
   ],
   "source": [
    "new_credit_7years= df['TotalCreditLinespast7years'].apply(total_credit_7years)\n",
    "new_credit_7years.unique()"
   ]
  },
  {
   "cell_type": "code",
   "execution_count": 27,
   "metadata": {},
   "outputs": [
    {
     "data": {
      "text/plain": [
       "33"
      ]
     },
     "execution_count": 27,
     "metadata": {},
     "output_type": "execute_result"
    }
   ],
   "source": [
    "df['OpenRevolvingAccounts'].max()"
   ]
  },
  {
   "cell_type": "code",
   "execution_count": 28,
   "metadata": {},
   "outputs": [],
   "source": [
    "def revolving_acounts(x):\n",
    "    if (x >=0. and x <= 10):\n",
    "        return 0\n",
    "    elif ( x >10 and x <= 20):\n",
    "        return 1\n",
    "    elif ( x >20 and x <=30):\n",
    "        return 2\n",
    "    elif (x> 30 and x <= 40):\n",
    "        return 3"
   ]
  },
  {
   "cell_type": "code",
   "execution_count": 29,
   "metadata": {},
   "outputs": [
    {
     "data": {
      "text/plain": [
       "array([0, 1, 2, 3], dtype=int64)"
      ]
     },
     "execution_count": 29,
     "metadata": {},
     "output_type": "execute_result"
    }
   ],
   "source": [
    "new_revolving_accounts= df['OpenRevolvingAccounts'].apply(revolving_acounts)\n",
    "new_revolving_accounts.unique()"
   ]
  },
  {
   "cell_type": "code",
   "execution_count": 30,
   "metadata": {},
   "outputs": [
    {
     "data": {
      "text/plain": [
       "5184.0"
      ]
     },
     "execution_count": 30,
     "metadata": {},
     "output_type": "execute_result"
    }
   ],
   "source": [
    "df['OpenRevolvingMonthlyPayment'].max()"
   ]
  },
  {
   "cell_type": "code",
   "execution_count": 31,
   "metadata": {},
   "outputs": [],
   "source": [
    "def revolving_accounts_monthly(x):\n",
    "    if (x >=0. and x <= 1000):\n",
    "        return 0\n",
    "    elif ( x >1000 and x <= 2000):\n",
    "        return 1\n",
    "    elif ( x >2000 and x <=3000):\n",
    "        return 2\n",
    "    elif (x> 3000 and x <= 4000):\n",
    "        return 3\n",
    "    elif (x> 4000 and x< 5000):\n",
    "        return 4\n",
    "    else:\n",
    "        return 5"
   ]
  },
  {
   "cell_type": "code",
   "execution_count": 32,
   "metadata": {},
   "outputs": [
    {
     "data": {
      "text/plain": [
       "array([0, 1, 2, 3, 5, 4], dtype=int64)"
      ]
     },
     "execution_count": 32,
     "metadata": {},
     "output_type": "execute_result"
    }
   ],
   "source": [
    "new_revolving_accounts_monthly= df['OpenRevolvingMonthlyPayment'].apply(revolving_accounts_monthly)\n",
    "new_revolving_accounts_monthly.unique()"
   ]
  },
  {
   "cell_type": "code",
   "execution_count": 33,
   "metadata": {},
   "outputs": [
    {
     "data": {
      "text/plain": [
       "27.0"
      ]
     },
     "execution_count": 33,
     "metadata": {},
     "output_type": "execute_result"
    }
   ],
   "source": [
    "df['InquiriesLast6Months'].max()"
   ]
  },
  {
   "cell_type": "code",
   "execution_count": 34,
   "metadata": {},
   "outputs": [],
   "source": [
    "def inquiring_6months(x):\n",
    "    if (x >=0. and x <= 10):\n",
    "        return 0\n",
    "    elif ( x >10 and x <= 20):\n",
    "        return 1\n",
    "    else:\n",
    "        return 2"
   ]
  },
  {
   "cell_type": "code",
   "execution_count": 35,
   "metadata": {},
   "outputs": [
    {
     "data": {
      "text/plain": [
       "array([0, 2, 1], dtype=int64)"
      ]
     },
     "execution_count": 35,
     "metadata": {},
     "output_type": "execute_result"
    }
   ],
   "source": [
    "new_inquiring= df['InquiriesLast6Months'].apply(inquiring_6months)\n",
    "new_inquiring.unique()"
   ]
  },
  {
   "cell_type": "code",
   "execution_count": 36,
   "metadata": {},
   "outputs": [
    {
     "ename": "SyntaxError",
     "evalue": "invalid syntax (<ipython-input-36-71f11347ebfc>, line 1)",
     "output_type": "error",
     "traceback": [
      "\u001b[1;36m  File \u001b[1;32m\"<ipython-input-36-71f11347ebfc>\"\u001b[1;36m, line \u001b[1;32m1\u001b[0m\n\u001b[1;33m    df[]\u001b[0m\n\u001b[1;37m       ^\u001b[0m\n\u001b[1;31mSyntaxError\u001b[0m\u001b[1;31m:\u001b[0m invalid syntax\n"
     ]
    }
   ],
   "source": [
    "df[]"
   ]
  },
  {
   "cell_type": "code",
   "execution_count": null,
   "metadata": {},
   "outputs": [],
   "source": []
  },
  {
   "cell_type": "code",
   "execution_count": null,
   "metadata": {},
   "outputs": [],
   "source": []
  },
  {
   "cell_type": "code",
   "execution_count": null,
   "metadata": {},
   "outputs": [],
   "source": []
  },
  {
   "cell_type": "code",
   "execution_count": 37,
   "metadata": {},
   "outputs": [],
   "source": [
    "cat_features = [f for f, b in zip(features, df[features].dtypes == object) if b==True]\n",
    "num_features = [f for f in features if f not in cat_features]"
   ]
  },
  {
   "cell_type": "code",
   "execution_count": 38,
   "metadata": {},
   "outputs": [],
   "source": [
    "from scipy.stats import boxcox"
   ]
  },
  {
   "cell_type": "code",
   "execution_count": 43,
   "metadata": {},
   "outputs": [
    {
     "ename": "TypeError",
     "evalue": "'<=' not supported between instances of 'numpy.ndarray' and 'int'",
     "output_type": "error",
     "traceback": [
      "\u001b[1;31m---------------------------------------------------------------------------\u001b[0m",
      "\u001b[1;31mTypeError\u001b[0m                                 Traceback (most recent call last)",
      "\u001b[1;32m<ipython-input-43-80eee8087c86>\u001b[0m in \u001b[0;36m<module>\u001b[1;34m()\u001b[0m\n\u001b[1;32m----> 1\u001b[1;33m \u001b[0mboxcox_transformed_data\u001b[0m \u001b[1;33m=\u001b[0m \u001b[0mboxcox\u001b[0m\u001b[1;33m(\u001b[0m\u001b[0mnum_features\u001b[0m\u001b[1;33m)\u001b[0m\u001b[1;33m\u001b[0m\u001b[0m\n\u001b[0m",
      "\u001b[1;32m~\\Anaconda3\\lib\\site-packages\\scipy\\stats\\morestats.py\u001b[0m in \u001b[0;36mboxcox\u001b[1;34m(x, lmbda, alpha)\u001b[0m\n\u001b[0;32m   1027\u001b[0m         \u001b[1;32mreturn\u001b[0m \u001b[0mx\u001b[0m\u001b[1;33m\u001b[0m\u001b[0m\n\u001b[0;32m   1028\u001b[0m \u001b[1;33m\u001b[0m\u001b[0m\n\u001b[1;32m-> 1029\u001b[1;33m     \u001b[1;32mif\u001b[0m \u001b[0many\u001b[0m\u001b[1;33m(\u001b[0m\u001b[0mx\u001b[0m \u001b[1;33m<=\u001b[0m \u001b[1;36m0\u001b[0m\u001b[1;33m)\u001b[0m\u001b[1;33m:\u001b[0m\u001b[1;33m\u001b[0m\u001b[0m\n\u001b[0m\u001b[0;32m   1030\u001b[0m         \u001b[1;32mraise\u001b[0m \u001b[0mValueError\u001b[0m\u001b[1;33m(\u001b[0m\u001b[1;34m\"Data must be positive.\"\u001b[0m\u001b[1;33m)\u001b[0m\u001b[1;33m\u001b[0m\u001b[0m\n\u001b[0;32m   1031\u001b[0m \u001b[1;33m\u001b[0m\u001b[0m\n",
      "\u001b[1;31mTypeError\u001b[0m: '<=' not supported between instances of 'numpy.ndarray' and 'int'"
     ]
    }
   ],
   "source": [
    "boxcox_transformed_data = boxcox(num_features)"
   ]
  },
  {
   "cell_type": "code",
   "execution_count": null,
   "metadata": {},
   "outputs": [],
   "source": []
  },
  {
   "cell_type": "code",
   "execution_count": null,
   "metadata": {},
   "outputs": [],
   "source": []
  },
  {
   "cell_type": "code",
   "execution_count": 51,
   "metadata": {},
   "outputs": [],
   "source": [
    "from scipy import stats\n",
    "import matplotlib.pyplot as plt"
   ]
  },
  {
   "cell_type": "code",
   "execution_count": 54,
   "metadata": {},
   "outputs": [
    {
     "data": {
      "text/plain": [
       "Text(0.5, 1.0, 'Probplot against normal distribution')"
      ]
     },
     "execution_count": 54,
     "metadata": {},
     "output_type": "execute_result"
    },
    {
     "data": {
      "image/png": "[encoded data removed]",
      "text/plain": [
       "<Figure size 432x288 with 1 Axes>"
      ]
     },
     "metadata": {
      "needs_background": "light"
     },
     "output_type": "display_data"
    }
   ],
   "source": [
    "fig = plt.figure()\n",
    "ax1 = fig.add_subplot(211)\n",
    "x = stats.loggamma.rvs(5, size=500) + 5\n",
    "prob = stats.probplot(x, dist=stats.norm, plot=ax1)\n",
    "ax1.set_xlabel('')\n",
    "ax1.set_title('Probplot against normal distribution')"
   ]
  },
  {
   "cell_type": "code",
   "execution_count": 53,
   "metadata": {},
   "outputs": [
    {
     "ename": "TypeError",
     "evalue": "'<=' not supported between instances of 'numpy.ndarray' and 'int'",
     "output_type": "error",
     "traceback": [
      "\u001b[1;31m---------------------------------------------------------------------------\u001b[0m",
      "\u001b[1;31mTypeError\u001b[0m                                 Traceback (most recent call last)",
      "\u001b[1;32m<ipython-input-53-fb76ecf2d729>\u001b[0m in \u001b[0;36m<module>\u001b[1;34m()\u001b[0m\n\u001b[0;32m      1\u001b[0m \u001b[0max2\u001b[0m \u001b[1;33m=\u001b[0m \u001b[0mfig\u001b[0m\u001b[1;33m.\u001b[0m\u001b[0madd_subplot\u001b[0m\u001b[1;33m(\u001b[0m\u001b[1;36m212\u001b[0m\u001b[1;33m)\u001b[0m\u001b[1;33m\u001b[0m\u001b[0m\n\u001b[1;32m----> 2\u001b[1;33m \u001b[0mxt\u001b[0m \u001b[1;33m=\u001b[0m \u001b[0mstats\u001b[0m\u001b[1;33m.\u001b[0m\u001b[0mboxcox\u001b[0m\u001b[1;33m(\u001b[0m\u001b[0mnum_features\u001b[0m\u001b[1;33m)\u001b[0m\u001b[1;33m\u001b[0m\u001b[0m\n\u001b[0m\u001b[0;32m      3\u001b[0m \u001b[0mprob\u001b[0m \u001b[1;33m=\u001b[0m \u001b[0mstats\u001b[0m\u001b[1;33m.\u001b[0m\u001b[0mprobplot\u001b[0m\u001b[1;33m(\u001b[0m\u001b[0mxt\u001b[0m\u001b[1;33m,\u001b[0m \u001b[0mdist\u001b[0m\u001b[1;33m=\u001b[0m\u001b[0mstats\u001b[0m\u001b[1;33m.\u001b[0m\u001b[0mnorm\u001b[0m\u001b[1;33m,\u001b[0m \u001b[0mplot\u001b[0m\u001b[1;33m=\u001b[0m\u001b[0max2\u001b[0m\u001b[1;33m)\u001b[0m\u001b[1;33m\u001b[0m\u001b[0m\n\u001b[0;32m      4\u001b[0m \u001b[0max2\u001b[0m\u001b[1;33m.\u001b[0m\u001b[0mset_title\u001b[0m\u001b[1;33m(\u001b[0m\u001b[1;34m'Probplot after Box-Cox transformation'\u001b[0m\u001b[1;33m)\u001b[0m\u001b[1;33m\u001b[0m\u001b[0m\n",
      "\u001b[1;32m~\\Anaconda3\\lib\\site-packages\\scipy\\stats\\morestats.py\u001b[0m in \u001b[0;36mboxcox\u001b[1;34m(x, lmbda, alpha)\u001b[0m\n\u001b[0;32m   1027\u001b[0m         \u001b[1;32mreturn\u001b[0m \u001b[0mx\u001b[0m\u001b[1;33m\u001b[0m\u001b[0m\n\u001b[0;32m   1028\u001b[0m \u001b[1;33m\u001b[0m\u001b[0m\n\u001b[1;32m-> 1029\u001b[1;33m     \u001b[1;32mif\u001b[0m \u001b[0many\u001b[0m\u001b[1;33m(\u001b[0m\u001b[0mx\u001b[0m \u001b[1;33m<=\u001b[0m \u001b[1;36m0\u001b[0m\u001b[1;33m)\u001b[0m\u001b[1;33m:\u001b[0m\u001b[1;33m\u001b[0m\u001b[0m\n\u001b[0m\u001b[0;32m   1030\u001b[0m         \u001b[1;32mraise\u001b[0m \u001b[0mValueError\u001b[0m\u001b[1;33m(\u001b[0m\u001b[1;34m\"Data must be positive.\"\u001b[0m\u001b[1;33m)\u001b[0m\u001b[1;33m\u001b[0m\u001b[0m\n\u001b[0;32m   1031\u001b[0m \u001b[1;33m\u001b[0m\u001b[0m\n",
      "\u001b[1;31mTypeError\u001b[0m: '<=' not supported between instances of 'numpy.ndarray' and 'int'"
     ]
    }
   ],
   "source": [
    "ax2 = fig.add_subplot(212)\n",
    "xt = stats.boxcox(num_features)\n",
    "prob = stats.probplot(xt, dist=stats.norm, plot=ax2)\n",
    "ax2.set_title('Probplot after Box-Cox transformation')"
   ]
  },
  {
   "cell_type": "markdown",
   "metadata": {},
   "source": [
    "## ELIMINACIÓN ANTIGUAS VARIABLES E INCLUSIÓN DE LAS NUEVAS"
   ]
  },
  {
   "cell_type": "code",
   "execution_count": null,
   "metadata": {},
   "outputs": [],
   "source": []
  },
  {
   "cell_type": "code",
   "execution_count": null,
   "metadata": {},
   "outputs": [],
   "source": []
  },
  {
   "cell_type": "code",
   "execution_count": null,
   "metadata": {},
   "outputs": [],
   "source": []
  },
  {
   "cell_type": "code",
   "execution_count": null,
   "metadata": {},
   "outputs": [],
   "source": []
  },
  {
   "cell_type": "code",
   "execution_count": null,
   "metadata": {},
   "outputs": [],
   "source": []
  },
  {
   "cell_type": "markdown",
   "metadata": {},
   "source": [
    "## ANÁLISIS DE LAS CORRELACIONES"
   ]
  },
  {
   "cell_type": "code",
   "execution_count": 119,
   "metadata": {},
   "outputs": [
    {
     "data": {
      "text/plain": [
       "Index(['ListingKey', 'ListingNumber', 'ListingCreationDate', 'CreditGrade',\n",
       "       'Term', 'LoanStatus', 'ClosedDate', 'BorrowerAPR', 'BorrowerRate',\n",
       "       'LenderYield', 'EstimatedEffectiveYield', 'EstimatedLoss',\n",
       "       'EstimatedReturn', 'ProsperRating (numeric)', 'ProsperRating (Alpha)',\n",
       "       'ProsperScore', 'ListingCategory (numeric)', 'BorrowerState',\n",
       "       'Occupation', 'EmploymentStatus', 'EmploymentStatusDuration',\n",
       "       'IsBorrowerHomeowner', 'CurrentlyInGroup', 'GroupKey',\n",
       "       'DateCreditPulled', 'CreditScoreRangeLower', 'CreditScoreRangeUpper',\n",
       "       'FirstRecordedCreditLine', 'CurrentCreditLines', 'OpenCreditLines',\n",
       "       'TotalCreditLinespast7years', 'OpenRevolvingAccounts',\n",
       "       'OpenRevolvingMonthlyPayment', 'InquiriesLast6Months', 'TotalInquiries',\n",
       "       'CurrentDelinquencies', 'AmountDelinquent', 'DelinquenciesLast7Years',\n",
       "       'PublicRecordsLast10Years', 'PublicRecordsLast12Months',\n",
       "       'RevolvingCreditBalance', 'BankcardUtilization',\n",
       "       'AvailableBankcardCredit', 'TotalTrades',\n",
       "       'TradesNeverDelinquent (percentage)', 'TradesOpenedLast6Months',\n",
       "       'DebtToIncomeRatio', 'IncomeRange', 'IncomeVerifiable',\n",
       "       'StatedMonthlyIncome', 'LoanKey', 'TotalProsperLoans',\n",
       "       'TotalProsperPaymentsBilled', 'OnTimeProsperPayments',\n",
       "       'ProsperPaymentsLessThanOneMonthLate',\n",
       "       'ProsperPaymentsOneMonthPlusLate', 'ProsperPrincipalBorrowed',\n",
       "       'ProsperPrincipalOutstanding', 'ScorexChangeAtTimeOfListing',\n",
       "       'LoanCurrentDaysDelinquent', 'LoanFirstDefaultedCycleNumber',\n",
       "       'LoanMonthsSinceOrigination', 'LoanNumber', 'LoanOriginalAmount',\n",
       "       'LoanOriginationDate', 'LoanOriginationQuarter', 'MemberKey',\n",
       "       'MonthlyLoanPayment', 'LP_CustomerPayments',\n",
       "       'LP_CustomerPrincipalPayments', 'LP_InterestandFees', 'LP_ServiceFees',\n",
       "       'LP_CollectionFees', 'LP_GrossPrincipalLoss', 'LP_NetPrincipalLoss',\n",
       "       'LP_NonPrincipalRecoverypayments', 'PercentFunded', 'Recommendations',\n",
       "       'InvestmentFromFriendsCount', 'InvestmentFromFriendsAmount',\n",
       "       'Investors', 'PW', 'fraud', 'bad', 'indeterm', 'LoanOriginationYear'],\n",
       "      dtype='object')"
      ]
     },
     "execution_count": 119,
     "metadata": {},
     "output_type": "execute_result"
    }
   ],
   "source": [
    "df.columns"
   ]
  },
  {
   "cell_type": "code",
   "execution_count": null,
   "metadata": {},
   "outputs": [],
   "source": []
  },
  {
   "cell_type": "code",
   "execution_count": 122,
   "metadata": {},
   "outputs": [
    {
     "data": {
      "text/plain": [
       "<matplotlib.axes._subplots.AxesSubplot at 0x22fc895afd0>"
      ]
     },
     "execution_count": 122,
     "metadata": {},
     "output_type": "execute_result"
    },
    {
     "data": {
      "image/png": "[encoded data removed]",
      "text/plain": [
       "<Figure size 792x648 with 2 Axes>"
      ]
     },
     "metadata": {
      "needs_background": "light"
     },
     "output_type": "display_data"
    }
   ],
   "source": [
    "corr = df[num_features].corr()\n",
    "mask = np.zeros_like(corr, dtype=np.bool)\n",
    "mask[np.triu_indices_from(mask)] = True\n",
    "f, ax = plt.subplots(figsize=(11, 9))\n",
    "cmap = sns.diverging_palette(220, 10, as_cmap=True)\n",
    "sns.heatmap(corr, mask=mask, cmap=cmap, vmax=1., center=0,\n",
    "            square=True, linewidths=.5, cbar_kws={\"shrink\": .5})"
   ]
  },
  {
   "cell_type": "code",
   "execution_count": null,
   "metadata": {},
   "outputs": [],
   "source": []
  },
  {
   "cell_type": "code",
   "execution_count": null,
   "metadata": {},
   "outputs": [],
   "source": []
  },
  {
   "cell_type": "code",
   "execution_count": null,
   "metadata": {},
   "outputs": [],
   "source": []
  },
  {
   "cell_type": "code",
   "execution_count": null,
   "metadata": {},
   "outputs": [],
   "source": []
  },
  {
   "cell_type": "code",
   "execution_count": null,
   "metadata": {},
   "outputs": [],
   "source": []
  },
  {
   "cell_type": "code",
   "execution_count": null,
   "metadata": {},
   "outputs": [],
   "source": []
  }
 ],
 "metadata": {
  "kernelspec": {
   "display_name": "Python 3",
   "language": "python",
   "name": "python3"
  },
  "language_info": {
   "codemirror_mode": {
    "name": "ipython",
    "version": 3
   },
   "file_extension": ".py",
   "mimetype": "text/x-python",
   "name": "python",
   "nbconvert_exporter": "python",
   "pygments_lexer": "ipython3",
   "version": "3.7.0"
  },
  "toc": {
   "base_numbering": 1,
   "nav_menu": {},
   "number_sections": true,
   "sideBar": true,
   "skip_h1_title": false,
   "title_cell": "Table of Contents",
   "title_sidebar": "Contents",
   "toc_cell": false,
   "toc_position": {},
   "toc_section_display": true,
   "toc_window_display": false
  }
 },
 "nbformat": 4,
 "nbformat_minor": 2
}
